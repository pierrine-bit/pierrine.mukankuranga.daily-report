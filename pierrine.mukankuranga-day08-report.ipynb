{
 "cells": [
  {
   "cell_type": "markdown",
   "id": "6e5af891-88c4-46e8-a13c-95ee3753f07f",
   "metadata": {},
   "source": [
    "# Create a function `find_max()` that accepts two numeric inputs and returns the greater value. Avoid using the built-in `max()` function."
   ]
  },
  {
   "cell_type": "code",
   "execution_count": 31,
   "id": "d0bdb556-8f24-40de-8afd-e2bd95d13408",
   "metadata": {},
   "outputs": [],
   "source": [
    "def find_max(a,b):\n",
    "    if a>b:\n",
    "        return a\n",
    "    else:\n",
    "        return b"
   ]
  },
  {
   "cell_type": "code",
   "execution_count": 23,
   "id": "af1cb090-9b13-4cca-b0ad-1b5f6b1c4f2c",
   "metadata": {},
   "outputs": [],
   "source": []
  },
  {
   "cell_type": "code",
   "execution_count": 33,
   "id": "769e74b6-309a-412e-9d60-728e48f39f94",
   "metadata": {},
   "outputs": [
    {
     "data": {
      "text/plain": [
       "9"
      ]
     },
     "execution_count": 33,
     "metadata": {},
     "output_type": "execute_result"
    }
   ],
   "source": [
    "find_max(7,9)"
   ]
  },
  {
   "cell_type": "markdown",
   "id": "1f3c2188-cb7b-4c47-a952-9afc83738309",
   "metadata": {},
   "source": [
    "# Develop a function `find_max_of_three()` to find the maximum among three given numbers."
   ]
  },
  {
   "cell_type": "code",
   "execution_count": 40,
   "id": "0a050506-af43-4e9c-9541-1ff89143d747",
   "metadata": {},
   "outputs": [],
   "source": [
    "def find_max_of_three(a,b,c):\n",
    "    if a >=b and a>=c:\n",
    "        return a\n",
    "    elif b>=a and b>=c:\n",
    "        return b\n",
    "    else:\n",
    "        return c\n",
    "        "
   ]
  },
  {
   "cell_type": "code",
   "execution_count": 42,
   "id": "ef0e0ea2-c192-4132-bf72-d223a0a389e4",
   "metadata": {},
   "outputs": [
    {
     "data": {
      "text/plain": [
       "20"
      ]
     },
     "execution_count": 42,
     "metadata": {},
     "output_type": "execute_result"
    }
   ],
   "source": [
    "find_max_of_three(20,6,17)"
   ]
  },
  {
   "cell_type": "markdown",
   "id": "202692c3-a7e8-4d65-a4e7-a2d729e195db",
   "metadata": {},
   "source": [
    "# Write a function to manually calculate the length of a given list or string without using `len()`."
   ]
  },
  {
   "cell_type": "code",
   "execution_count": 104,
   "id": "480aa8ad-1226-4120-a158-381c33312698",
   "metadata": {},
   "outputs": [],
   "source": [
    "def calculate_length(sequence):\n",
    "    count= 0\n",
    "    for i in  sequence:\n",
    "        count += 1\n",
    "    return count  \n",
    "                             \n"
   ]
  },
  {
   "cell_type": "code",
   "execution_count": 110,
   "id": "d47c28dd-fefd-4829-9ad2-f03aba62927e",
   "metadata": {},
   "outputs": [
    {
     "name": "stdout",
     "output_type": "stream",
     "text": [
      "4\n"
     ]
    }
   ],
   "source": [
    "list = [1,2,34,4]\n",
    "print(calculate_length(list))\n"
   ]
  },
  {
   "cell_type": "code",
   "execution_count": 139,
   "id": "b9533d3e-9c4c-474d-9041-9ea3c7245b96",
   "metadata": {},
   "outputs": [
    {
     "name": "stdout",
     "output_type": "stream",
     "text": [
      "11\n"
     ]
    }
   ],
   "source": [
    "string = (\"Hello there\")\n",
    "print(calculate_length(string))"
   ]
  },
  {
   "cell_type": "markdown",
   "id": "1c466dfb-5173-47c0-97bc-673173b10459",
   "metadata": {},
   "source": [
    "# Implement a function that checks if a given character is a vowel (a, e, i, o, u)."
   ]
  },
  {
   "cell_type": "code",
   "execution_count": 146,
   "id": "37422e96-1ff7-4e95-a9b6-9977a6f241d7",
   "metadata": {},
   "outputs": [],
   "source": [
    "def is_vowel(char):\n",
    "    vowels = '\"aeiouAEIOUE\"'  \n",
    "    return char in vowels"
   ]
  },
  {
   "cell_type": "code",
   "execution_count": 129,
   "id": "7d4235c5-c630-4242-84fc-934bb1cec717",
   "metadata": {},
   "outputs": [
    {
     "data": {
      "text/plain": [
       "True"
      ]
     },
     "execution_count": 129,
     "metadata": {},
     "output_type": "execute_result"
    }
   ],
   "source": [
    "is_vowel('a')"
   ]
  },
  {
   "cell_type": "code",
   "execution_count": 131,
   "id": "8176fe00-62d5-4165-9dab-f12c632a3221",
   "metadata": {},
   "outputs": [
    {
     "data": {
      "text/plain": [
       "False"
      ]
     },
     "execution_count": 131,
     "metadata": {},
     "output_type": "execute_result"
    }
   ],
   "source": [
    "is_vowel('g')"
   ]
  },
  {
   "cell_type": "code",
   "execution_count": 137,
   "id": "b6ff5330-ad41-444c-9529-381aec2313bf",
   "metadata": {},
   "outputs": [
    {
     "data": {
      "text/plain": [
       "True"
      ]
     },
     "execution_count": 137,
     "metadata": {},
     "output_type": "execute_result"
    }
   ],
   "source": [
    "is_vowel('u')"
   ]
  },
  {
   "cell_type": "markdown",
   "id": "e5a76424-7593-46f3-aefe-17d0105301bf",
   "metadata": {},
   "source": [
    " # create `sum_elements()` and `product_elements()` functions to sum and multiply all elements in a list, respectively."
   ]
  },
  {
   "cell_type": "code",
   "execution_count": 323,
   "id": "320d608c-5e71-43d6-ba42-f729361ef691",
   "metadata": {},
   "outputs": [
    {
     "name": "stdout",
     "output_type": "stream",
     "text": [
      "15\n",
      "120\n"
     ]
    }
   ],
   "source": [
    "def sum_elements(lst):\n",
    "    return sum(lst)\n",
    "\n",
    "def product_elements(lst):\n",
    "    product=1\n",
    "    for num in lst:\n",
    "        product*= num\n",
    "    return product\n",
    "\n",
    "numbers=[1,2,3,4,5]\n",
    "print (sum_elements(numbers))\n",
    "print ( product_elements(numbers))\n"
   ]
  },
  {
   "cell_type": "markdown",
   "id": "88eb5552-7b7d-47d9-8fb6-623e536a8f5e",
   "metadata": {},
   "source": [
    "# Define a function `reverse_string()` to reverse the characters in a given string."
   ]
  },
  {
   "cell_type": "code",
   "execution_count": 284,
   "id": "f5a8a4af-51fc-4762-8d08-ba37c4627c98",
   "metadata": {},
   "outputs": [
    {
     "name": "stdout",
     "output_type": "stream",
     "text": [
      "enirreip\n"
     ]
    }
   ],
   "source": [
    "def reverse_string(s:str)->str:\n",
    "    return s[::-1]\n",
    "\n",
    "print(reverse_string('pierrine'))\n",
    "\n"
   ]
  },
  {
   "cell_type": "markdown",
   "id": "645f9980-c0de-4875-90d6-f55981ea5c91",
   "metadata": {},
   "source": [
    " # Develop a function `check_membership()` to determine if a value exists within a list."
   ]
  },
  {
   "cell_type": "code",
   "execution_count": 224,
   "id": "8067fd92-9f64-4f5d-9284-945c58fd6780",
   "metadata": {},
   "outputs": [
    {
     "name": "stdout",
     "output_type": "stream",
     "text": [
      "True\n"
     ]
    }
   ],
   "source": [
    "\n",
    "def check_membership(value, input_list):\n",
    "    return value in input_list\n",
    "\n",
    "list=[1,2,3,5,4]\n",
    "value_to_check =2\n",
    "is_member= check_membership(value_to_check,list)\n",
    "print (is_member)"
   ]
  },
  {
   "cell_type": "markdown",
   "id": "e9145e77-cb54-45dd-ac65-5ecfe0984548",
   "metadata": {},
   "source": [
    "# Write `check_overlap()` to identify if two lists share any elements."
   ]
  },
  {
   "cell_type": "code",
   "execution_count": 250,
   "id": "0d76b610-b8d3-40c8-b7d8-e8f379726776",
   "metadata": {},
   "outputs": [
    {
     "name": "stdout",
     "output_type": "stream",
     "text": [
      "True\n"
     ]
    }
   ],
   "source": [
    "def check_overlap(list1,list2):\n",
    "    return bool(set(list1)& set(list2))\n",
    "    list1=[1,3,3,4,5]\n",
    "list2=[4,5,6,7,8]\n",
    "overlap=check_overlap(list1, list2)\n",
    "print(overlap)\n",
    "    "
   ]
  },
  {
   "cell_type": "markdown",
   "id": "1428f76b-9cbb-4f68-9b4b-4cc4fed901c3",
   "metadata": {},
   "source": [
    " # Create a program that maps each word in a list to its length."
   ]
  },
  {
   "cell_type": "code",
   "execution_count": 271,
   "id": "430a877c-3411-4754-8c3a-8c71c498b8d0",
   "metadata": {},
   "outputs": [
    {
     "name": "stdout",
     "output_type": "stream",
     "text": [
      "1:*\n",
      "3:***\n",
      "5:*****\n"
     ]
    }
   ],
   "source": [
    "def print_histogram(lst) -> None:\n",
    "    for value in lst:\n",
    "        print(f\"{value}:{'*' * value}\")\n",
    "        data=[1,3,5]\n",
    "print_histogram(data)"
   ]
  },
  {
   "cell_type": "markdown",
   "id": "9ded7611-8b90-4e97-90b2-c0b7ec2dc0b3",
   "metadata": {},
   "source": [
    "# Use `reduce()` to write `max_in_list()` that returns the largest number in a list."
   ]
  },
  {
   "cell_type": "code",
   "execution_count": 325,
   "id": "3c336420-48ba-492e-a802-b7334747cd1c",
   "metadata": {},
   "outputs": [],
   "source": [
    "def max_in_list(lst):\n",
    "    return reduce(lambda x,y: x if x>y else y,lst) if lst else None\n",
    "    x=[3,1,4,1,5,9,2,6,5]\n",
    "    result= max_in_list(x)\n",
    "    print(result)"
   ]
  },
  {
   "cell_type": "markdown",
   "id": "bb2543f0-b53c-40bb-9c65-cd1f8a2fde55",
   "metadata": {},
   "source": [
    "#Implement `longest_word()` to find the longest word in a list."
   ]
  },
  {
   "cell_type": "code",
   "execution_count": 334,
   "id": "cc24ed1f-580b-4110-b4e0-5ca25b98e5b1",
   "metadata": {},
   "outputs": [],
   "source": [
    "def longest_word(words):\n",
    "    if not words:\n",
    "        return None\n",
    "        longest=words[0]\n",
    "        for word in words:\n",
    "            if len(word)>len(longest):\n",
    "                longest = word\n",
    "                return longest"
   ]
  },
  {
   "cell_type": "code",
   "execution_count": 340,
   "id": "3b3d72e8-e228-4261-8ff9-05a4c792a41c",
   "metadata": {},
   "outputs": [
    {
     "name": "stdout",
     "output_type": "stream",
     "text": [
      "None\n"
     ]
    }
   ],
   "source": [
    "words_list = [\"apple\",\"banana\", \"watermelon\", \"grape\"]\n",
    "print(longest_word(words_list))\n"
   ]
  }
 ],
 "metadata": {
  "kernelspec": {
   "display_name": "Python 3 (ipykernel)",
   "language": "python",
   "name": "python3"
  },
  "language_info": {
   "codemirror_mode": {
    "name": "ipython",
    "version": 3
   },
   "file_extension": ".py",
   "mimetype": "text/x-python",
   "name": "python",
   "nbconvert_exporter": "python",
   "pygments_lexer": "ipython3",
   "version": "3.12.4"
  }
 },
 "nbformat": 4,
 "nbformat_minor": 5
}
