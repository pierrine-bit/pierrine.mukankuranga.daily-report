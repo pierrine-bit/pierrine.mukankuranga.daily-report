{
 "cells": [
  {
   "cell_type": "markdown",
   "id": "fc3a341b-5e15-40d3-b997-37640e3fd86d",
   "metadata": {},
   "source": [
    "### Practical_6: Numpy"
   ]
  },
  {
   "cell_type": "markdown",
   "id": "71b43292-a227-46f6-ab1e-a7a68fb9f378",
   "metadata": {},
   "source": [
    "### Exercise 1:\n",
    "Create a NumPy array of integers from 1 to 10."
   ]
  },
  {
   "cell_type": "code",
   "execution_count": 4,
   "id": "594289a4-5a50-47db-aaec-3a806563f5df",
   "metadata": {},
   "outputs": [
    {
     "name": "stdout",
     "output_type": "stream",
     "text": [
      "[ 1  2  3  4  5  6  7  8  9 10]\n"
     ]
    }
   ],
   "source": [
    "import numpy as np\n",
    "b= np.arange(1, 11)\n",
    "print(b)\n"
   ]
  },
  {
   "cell_type": "markdown",
   "id": "8cebc049-8ffa-447d-8cb2-f214719e54eb",
   "metadata": {},
   "source": [
    "### Exercise 2\n",
    "\n",
    "Create a 3x3 NumPy array filled with zeros."
   ]
  },
  {
   "cell_type": "code",
   "execution_count": 20,
   "id": "030bcd8b-d600-4eeb-a838-4613a035168f",
   "metadata": {},
   "outputs": [
    {
     "name": "stdout",
     "output_type": "stream",
     "text": [
      "[[0. 0. 0.]\n",
      " [0. 0. 0.]\n",
      " [0. 0. 0.]]\n"
     ]
    },
    {
     "data": {
      "text/plain": [
       "dtype('int32')"
      ]
     },
     "execution_count": 20,
     "metadata": {},
     "output_type": "execute_result"
    }
   ],
   "source": [
    "import numpy as np\n",
    "array_zeros = np.zeros((3, 3))\n",
    "print(array_zeros)\n",
    "b.dtype"
   ]
  },
  {
   "cell_type": "markdown",
   "id": "1d49894e-5610-41e2-89e8-84fed0833c51",
   "metadata": {},
   "source": [
    "### Exercise 3\n",
    "Create a NumPy array of 10 evenly spaced numbers between 0 and 5."
   ]
  },
  {
   "cell_type": "code",
   "execution_count": 68,
   "id": "cb434f14-79b2-4006-9a75-1264079a565f",
   "metadata": {},
   "outputs": [
    {
     "name": "stdout",
     "output_type": "stream",
     "text": [
      "\n",
      "\n",
      "[0 1 2 3 4 5]\n"
     ]
    }
   ],
   "source": [
    "import numpy as np\n",
    "print(\"\\n\")\n",
    "a=np.linspace(0,5,10)\n",
    "print(a1)\n"
   ]
  },
  {
   "cell_type": "markdown",
   "id": "a6998909-7a6a-45e8-b195-99d930eb27c8",
   "metadata": {},
   "source": [
    "### Exercise 4:\n",
    "Create a 5x5 identity matrix using NumPy."
   ]
  },
  {
   "cell_type": "code",
   "execution_count": 24,
   "id": "ade4691e-b3cc-489a-866b-0f2202d4085e",
   "metadata": {},
   "outputs": [
    {
     "data": {
      "text/plain": [
       "array([[1., 0., 0., 0., 0.],\n",
       "       [0., 1., 0., 0., 0.],\n",
       "       [0., 0., 1., 0., 0.],\n",
       "       [0., 0., 0., 1., 0.],\n",
       "       [0., 0., 0., 0., 1.]])"
      ]
     },
     "execution_count": 24,
     "metadata": {},
     "output_type": "execute_result"
    }
   ],
   "source": [
    "a=np.eye(5,5)\n",
    "a"
   ]
  },
  {
   "cell_type": "markdown",
   "id": "8c26a79b-b061-48f0-a3a2-59acdbb6a222",
   "metadata": {},
   "source": [
    "### Exercise 5\n",
    "\n",
    "Create a 4x4 matrix with random values between 0 and 1."
   ]
  },
  {
   "cell_type": "code",
   "execution_count": 42,
   "id": "2fa399d3-8fd5-4835-8225-189ee791bcb7",
   "metadata": {},
   "outputs": [
    {
     "data": {
      "text/plain": [
       "array([[0.58194701, 0.27952398, 0.72624737, 0.95755123],\n",
       "       [0.93188188, 0.79290003, 0.839266  , 0.47357899],\n",
       "       [0.40611447, 0.563047  , 0.60260089, 0.8781133 ],\n",
       "       [0.90658027, 0.87289269, 0.45201018, 0.08638128]])"
      ]
     },
     "execution_count": 42,
     "metadata": {},
     "output_type": "execute_result"
    }
   ],
   "source": [
    "\n",
    "b=np.random.random((4,4))\n",
    "b\n"
   ]
  },
  {
   "cell_type": "markdown",
   "id": "46eb252d-a70c-43cd-aa69-a4956ef99d7c",
   "metadata": {},
   "source": [
    "### Exercise 6\n",
    "\n",
    "Find the shape of a NumPy array."
   ]
  },
  {
   "cell_type": "code",
   "execution_count": 197,
   "id": "c7c59436-233c-4198-8eb7-88bfb09538d9",
   "metadata": {},
   "outputs": [
    {
     "name": "stdout",
     "output_type": "stream",
     "text": [
      "Shape of the array: (4, 3)\n"
     ]
    }
   ],
   "source": [
    "import numpy as np\n",
    "\n",
    "array = np.array([[1, 2, 3],\n",
    "                  [4, 5, 6],\n",
    "                  [7, 8, 9],\n",
    "                  [10,11,12],])\n",
    "shape = array.shape\n",
    "print(\"Shape of the array:\", shape)"
   ]
  },
  {
   "cell_type": "markdown",
   "id": "cbf62cb8-e1e0-461a-8cf9-0591e781049f",
   "metadata": {},
   "source": [
    "### Exercise 7:\n",
    "Reshape a 1D NumPy array of 16 elements into a 4x4 matrix."
   ]
  },
  {
   "cell_type": "code",
   "execution_count": 209,
   "id": "3381a66b-9632-4972-9789-eba83ab58efd",
   "metadata": {},
   "outputs": [
    {
     "name": "stdout",
     "output_type": "stream",
     "text": [
      "Original 1D Array:\n",
      "[ 1  2  3  4  5  6  7  8  9 10 11 12 13 14 15 16]\n",
      "\n",
      "Reshaped 4x4 Matrix:\n",
      "[[ 1  2  3  4]\n",
      " [ 5  6  7  8]\n",
      " [ 9 10 11 12]\n",
      " [13 14 15 16]]\n"
     ]
    }
   ],
   "source": [
    "import numpy as np\n",
    "\n",
    "array_1D = np.arange(1, 17)  \n",
    "matrix_4x4 = array_1D.reshape((4, 4))\n",
    "print(\"Original 1D Array:\")\n",
    "print(array_1D)\n",
    "print(\"\\nReshaped 4x4 Matrix:\")\n",
    "print(matrix_4x4)"
   ]
  },
  {
   "cell_type": "markdown",
   "id": "3b329e5c-ca13-41e0-910b-b225c6fcadd0",
   "metadata": {},
   "source": [
    "### Exercise 8:\n",
    "Find the data type of the elements in a NumPy array."
   ]
  },
  {
   "cell_type": "code",
   "execution_count": 213,
   "id": "f0dbc28e-f0d9-4ccc-b4e1-2cd08e14798a",
   "metadata": {},
   "outputs": [
    {
     "name": "stdout",
     "output_type": "stream",
     "text": [
      "Data type of the array: int32\n"
     ]
    }
   ],
   "source": [
    "import numpy as np\n",
    "array = np.array([1, 2, 3, 4, 5])  \n",
    "data_type = array.dtype\n",
    "print(\"Data type of the array:\", data_type)"
   ]
  },
  {
   "cell_type": "markdown",
   "id": "7f379518-eb73-4020-987c-adf22b34e3d4",
   "metadata": {},
   "source": [
    "### Exercise 9:\n",
    "Create a NumPy array of integers from 1 to 100 and find all even numbers in the array."
   ]
  },
  {
   "cell_type": "code",
   "execution_count": 52,
   "id": "c917293f-d807-46fd-80a1-d3dc89f34efe",
   "metadata": {},
   "outputs": [
    {
     "data": {
      "text/plain": [
       "array([  1,   2,   3,   4,   5,   6,   7,   8,   9,  10,  11,  12,  13,\n",
       "        14,  15,  16,  17,  18,  19,  20,  21,  22,  23,  24,  25,  26,\n",
       "        27,  28,  29,  30,  31,  32,  33,  34,  35,  36,  37,  38,  39,\n",
       "        40,  41,  42,  43,  44,  45,  46,  47,  48,  49,  50,  51,  52,\n",
       "        53,  54,  55,  56,  57,  58,  59,  60,  61,  62,  63,  64,  65,\n",
       "        66,  67,  68,  69,  70,  71,  72,  73,  74,  75,  76,  77,  78,\n",
       "        79,  80,  81,  82,  83,  84,  85,  86,  87,  88,  89,  90,  91,\n",
       "        92,  93,  94,  95,  96,  97,  98,  99, 100])"
      ]
     },
     "execution_count": 52,
     "metadata": {},
     "output_type": "execute_result"
    }
   ],
   "source": [
    "a=np.arange(1,101)\n",
    "a"
   ]
  },
  {
   "cell_type": "markdown",
   "id": "ae16dbfc-4c8a-464b-bc11-df7bc7242cb7",
   "metadata": {},
   "source": [
    "\n",
    "### Exercise 10:\n",
    "Generate a 6x6 matrix of random integers between 10 and 50."
   ]
  },
  {
   "cell_type": "code",
   "execution_count": 66,
   "id": "38a80b6c-1529-438d-b052-967bd8a110c9",
   "metadata": {},
   "outputs": [
    {
     "data": {
      "text/plain": [
       "array([[22, 25, 46, 38, 46, 39],\n",
       "       [44, 31, 39, 30, 25, 14],\n",
       "       [35, 21, 41, 47, 25, 18],\n",
       "       [44, 15, 15, 34, 12, 36],\n",
       "       [42, 42, 37, 41, 10, 27],\n",
       "       [41, 23, 15, 29, 19, 38]])"
      ]
     },
     "execution_count": 66,
     "metadata": {},
     "output_type": "execute_result"
    }
   ],
   "source": [
    "a=np.random.randint(10,50,(6,6))\n",
    "a"
   ]
  },
  {
   "cell_type": "markdown",
   "id": "2948c6bc-e33a-44cb-b8e5-1480739206c5",
   "metadata": {},
   "source": [
    "### Exercise 11:\n",
    "Slice a 2D NumPy array to extract a submatrix."
   ]
  },
  {
   "cell_type": "code",
   "execution_count": 189,
   "id": "4bef13de-64d4-4b18-85a4-1915f474e5b2",
   "metadata": {},
   "outputs": [
    {
     "name": "stdout",
     "output_type": "stream",
     "text": [
      "Original Matrix:\n",
      "[[ 1  2  3  4]\n",
      " [ 5  6  7  8]\n",
      " [ 9 10 11 12]\n",
      " [13 14 15 16]]\n",
      "\n",
      "Submatrix:\n",
      "[[ 6  7]\n",
      " [10 11]]\n"
     ]
    }
   ],
   "source": [
    "import numpy as np\n",
    "\n",
    "matrix = np.array([[1, 2, 3, 4],\n",
    "                   [5, 6, 7, 8],\n",
    "                   [9, 10, 11, 12],\n",
    "                   [13, 14, 15, 16]])\n",
    "\n",
    "submatrix = matrix[1:3, 1:3] \n",
    "print(\"Original Matrix:\")\n",
    "print(matrix)\n",
    "print(\"\\nSubmatrix:\")\n",
    "print(submatrix)"
   ]
  },
  {
   "cell_type": "markdown",
   "id": "a2ea2fac-3094-4e54-b749-981a232bc119",
   "metadata": {},
   "source": [
    "### Exercise 12:\n",
    "Calculate the sum of all elements in a NumPy array."
   ]
  },
  {
   "cell_type": "code",
   "execution_count": 87,
   "id": "ffda10a8-1667-4e7d-bc27-d77f24c0ca6c",
   "metadata": {},
   "outputs": [
    {
     "name": "stdout",
     "output_type": "stream",
     "text": [
      "Sum of all elements: 55\n"
     ]
    }
   ],
   "source": [
    "import numpy as np\n",
    "array = np.arange(1, 11)\n",
    "sum_of_elements = np.sum(array)\n",
    "print(\"Sum of all elements:\", sum_of_elements)\n",
    "           "
   ]
  },
  {
   "cell_type": "markdown",
   "id": "957e1f79-b95f-4b76-b53c-ada13e6fb389",
   "metadata": {},
   "source": [
    "### Exercise 13:\n",
    "Calculate the mean, median, and standard deviation of a NumPy array."
   ]
  },
  {
   "cell_type": "code",
   "execution_count": 96,
   "id": "1117e18e-ed55-4e3b-a3a9-e4e4631805f4",
   "metadata": {},
   "outputs": [
    {
     "name": "stdout",
     "output_type": "stream",
     "text": [
      "[0 1 2 3 4 5 6 7 8 9]\n",
      "\n",
      "Mean:  4.5\n",
      "\n",
      "std:  2.8722813232690143\n",
      "\n",
      "variance:  8.25\n"
     ]
    }
   ],
   "source": [
    "array = np.arange(10) \n",
    "print(array) \n",
    "     # meanof array\n",
    "a1 = np.mean(array) \n",
    "print(\"\\nMean: \", a1) \n",
    "  \n",
    "     # standard deviation \n",
    "a2= np.std(array) \n",
    "print(\"\\nstd: \", a2) \n",
    "  \n",
    "     # variance\n",
    "a3 = np.var(array) \n",
    "print(\"\\nvariance: \", a3) "
   ]
  },
  {
   "cell_type": "markdown",
   "id": "195d5bc2-e0aa-4efe-bd8e-644def1e249f",
   "metadata": {},
   "source": [
    "### Exercise 14\n",
    "Find the maximum and minimum values in a NumPy array."
   ]
  },
  {
   "cell_type": "code",
   "execution_count": 107,
   "id": "cf19c3fe-7e11-4c07-a180-b36fce11e16a",
   "metadata": {},
   "outputs": [
    {
     "name": "stdout",
     "output_type": "stream",
     "text": [
      "[0 1 2 3 4 5 6 7 8 9]\n"
     ]
    }
   ],
   "source": [
    "array= np.arange(10)\n",
    "print(array)\n",
    "minimum_elements= np.max(array)\n",
    "maximum_elements= np.min(array)\n",
    "\n"
   ]
  },
  {
   "cell_type": "markdown",
   "id": "66fbff26-3595-4fe9-982b-c7d5dcfcb765",
   "metadata": {},
   "source": [
    "### Exercise 15\n",
    "Create a NumPy array of 20 random integers and find the index of the maximum value."
   ]
  },
  {
   "cell_type": "code",
   "execution_count": 148,
   "id": "5c9620d6-cbfe-402f-a766-e9d2c547660a",
   "metadata": {},
   "outputs": [
    {
     "name": "stdout",
     "output_type": "stream",
     "text": [
      "[1 0 1 9 1 2 6 0 7 4 1 3 5 0 9 7 8 2 3 8]\n"
     ]
    }
   ],
   "source": [
    "import numpy as np\n",
    "np.random.seed()\n",
    "a=np.random.randint(10,size=20)\n",
    "print(a)\n"
   ]
  },
  {
   "cell_type": "markdown",
   "id": "ac586698-dcbd-4961-9fe6-5556ea2db0a8",
   "metadata": {},
   "source": [
    "### Exercise 16\n",
    "Create a NumPy array and reverse its elements."
   ]
  },
  {
   "cell_type": "code",
   "execution_count": 168,
   "id": "89b11013-fe88-493f-ad76-1d00c3662b1a",
   "metadata": {},
   "outputs": [
    {
     "name": "stdout",
     "output_type": "stream",
     "text": [
      "array2 [5 4 6 4 2 0]\n"
     ]
    }
   ],
   "source": [
    "import numpy as np\n",
    "\n",
    "array1 = np.array([0, 2, 4, 6, 4, 5])\n",
    "array2=np.flip(array1)\n",
    "print(\"array2\", str(array2))\n"
   ]
  },
  {
   "cell_type": "markdown",
   "id": "48453da6-ed6b-4317-b74d-c8acbe7d5194",
   "metadata": {},
   "source": [
    "### Exercise 17\n",
    "Create a 3x3 matrix and multiply it element-wise by another 3x3 matrix."
   ]
  },
  {
   "cell_type": "code",
   "execution_count": 172,
   "id": "97424fbc-7d80-4265-98f8-4c83ef7c42bc",
   "metadata": {},
   "outputs": [
    {
     "name": "stdout",
     "output_type": "stream",
     "text": [
      "[[ 1  4  9]\n",
      " [16 25 36]\n",
      " [49 64 81]]\n"
     ]
    }
   ],
   "source": [
    "x = np.array([[1,2,3],[4,5,6],[7,8,9]],)\n",
    "y = np.array([[1,2,3],[4,5,6],[7,8,9]],)\n",
    "print(x*y)"
   ]
  },
  {
   "cell_type": "markdown",
   "id": "3f79a555-d1e8-49c8-93c3-750bd6fe19fb",
   "metadata": {},
   "source": [
    "### Exercise 18\n",
    "Create a diagonal matrix from a given 1D array."
   ]
  },
  {
   "cell_type": "code",
   "execution_count": 187,
   "id": "27725250-87ca-4dec-ab84-41b5fc7b657a",
   "metadata": {},
   "outputs": [
    {
     "name": "stdout",
     "output_type": "stream",
     "text": [
      "Diagonal Matrix:\n",
      "[[1 0 0 0 0]\n",
      " [0 2 0 0 0]\n",
      " [0 0 3 0 0]\n",
      " [0 0 0 4 0]\n",
      " [0 0 0 0 5]]\n"
     ]
    }
   ],
   "source": [
    "import numpy as np\n",
    "\n",
    "array_1D = np.array([1, 2, 3, 4, 5])\n",
    "diagonal_matrix = np.diag(array_1D)\n",
    "print(\"Diagonal Matrix:\")\n",
    "print(diagonal_matrix)"
   ]
  },
  {
   "cell_type": "markdown",
   "id": "3c6ec1d5-45c0-4b16-8754-c3968bce050a",
   "metadata": {},
   "source": [
    "### Exercise 19:\n",
    "Perform matrix multiplication on two 2D NumPy arrays."
   ]
  },
  {
   "cell_type": "code",
   "execution_count": 181,
   "id": "1631e9ba-3b16-4d41-ab34-add08ab8769f",
   "metadata": {},
   "outputs": [
    {
     "name": "stdout",
     "output_type": "stream",
     "text": [
      "Result of matrix multiplication:\n",
      "[[ 58  64]\n",
      " [139 154]]\n"
     ]
    }
   ],
   "source": [
    "import numpy as np\n",
    "matrix_a = np.array([[1, 2, 3],\n",
    "                      [4, 5, 6]])\n",
    "\n",
    "matrix_b = np.array([[7, 8],\n",
    "                      [9, 10],\n",
    "                      [11, 12]])\n",
    "result = np.dot(matrix_a, matrix_b) \n",
    "print(\"Result of matrix multiplication:\")\n",
    "print(result)"
   ]
  },
  {
   "cell_type": "markdown",
   "id": "6bc42e09-0256-402b-8844-387b5e1d6306",
   "metadata": {},
   "source": [
    "### Exercise 20:\n",
    "Flatten a 2D NumPy array into a 1D array."
   ]
  },
  {
   "cell_type": "code",
   "execution_count": 184,
   "id": "6394b201-ece8-4b1a-afb3-c0939f96f41c",
   "metadata": {},
   "outputs": [
    {
     "name": "stdout",
     "output_type": "stream",
     "text": [
      "initial array [[1 2 3]\n",
      " [2 4 5]\n",
      " [1 2 3]]\n",
      "New resulting array:  [1 2 3 2 4 5 1 2 3]\n"
     ]
    }
   ],
   "source": [
    "import numpy as np\n",
    "\n",
    "ini_array1 = np.array([[1, 2, 3], [2, 4, 5], [1, 2, 3]])\n",
    "print(\"initial array\", str(ini_array1))\n",
    "result = ini_array1.flatten()\n",
    "print(\"New resulting array: \", result)\n"
   ]
  }
 ],
 "metadata": {
  "kernelspec": {
   "display_name": "Python 3 (ipykernel)",
   "language": "python",
   "name": "python3"
  },
  "language_info": {
   "codemirror_mode": {
    "name": "ipython",
    "version": 3
   },
   "file_extension": ".py",
   "mimetype": "text/x-python",
   "name": "python",
   "nbconvert_exporter": "python",
   "pygments_lexer": "ipython3",
   "version": "3.12.4"
  }
 },
 "nbformat": 4,
 "nbformat_minor": 5
}
