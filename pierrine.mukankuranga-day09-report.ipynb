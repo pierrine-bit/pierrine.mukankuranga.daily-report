{
 "cells": [
  {
   "cell_type": "markdown",
   "metadata": {
    "colab_type": "text",
    "id": "view-in-github"
   },
   "source": [
    "<a href=\"https://colab.research.google.com/github/ai-technipreneurs/python_course_colab_notebooks/blob/main/05_Lecture05.ipynb\" target=\"_parent\"><img src=\"https://colab.research.google.com/assets/colab-badge.svg\" alt=\"Open In Colab\"/></a>"
   ]
  },
  {
   "cell_type": "markdown",
   "metadata": {
    "id": "hDFhGBtydVB8"
   },
   "source": [
    "<center>\n",
    "    <a href=\"https://aims-senegal.org/\" ><img src=\"images/logoaimssn.jpeg\" style=\"float:left; max-width: 650px; display: inline\" alt=\"AIMS-SN\"/> </a>\n",
    "    </center>\n",
    "\n",
    "\n",
    "\n",
    "<center>\n",
    "    \n",
    "<a href=\"https://acas-yde.org/\" ><img src=\"images/logo-ACAS.jpg\" style=\"float:right; max-width: 250px; display: inline\" alt=\"ACAS\"/></a>\n",
    "    \n",
    "</center>\n"
   ]
  },
  {
   "cell_type": "markdown",
   "metadata": {
    "id": "JgPFAnzidVB-"
   },
   "source": [
    "****\n",
    "\n",
    "# <center> <b> <span style=\"color:orange;\"> Python Proficiency for Scientific Computing and Data Science (PyPro-SCiDaS)  </span> </b></center>\n",
    "\n",
    "### <center> <b> <span style=\"color:green;\">An Initiation to Programming using Python (Init2Py) </span> </b></center>\n",
    "    \n"
   ]
  },
  {
   "cell_type": "markdown",
   "metadata": {
    "id": "tLJuNn_2dVB_"
   },
   "source": [
    "****\n",
    "\n",
    "# <center> <b> <span style=\"color:blue;\"> Lecture 5: Functions, Modules, and Packages </span> </b></center>\n",
    "\n",
    "<!--NAVIGATION-->\n",
    "<  [4.Flow control](04.Lecture04.ipynb)| [ToC](Index.ipynb) | [6. To come](06.Lecture06.ipynb)>\n",
    "\n",
    "****"
   ]
  },
  {
   "cell_type": "markdown",
   "metadata": {
    "id": "Wtw2SqnYdVB_"
   },
   "source": [
    "### <left> <b> <span style=\"color:brown;\"> Objective: </span> </b></left>\n",
    "\n",
    "\"This lecture aims to introduce the concepts of `functions`, `modules`, and `packages` in Python. We will explore the role and creation of `functions` for organizing and reusing code, delve into `modules` for structuring code into manageable files, and examine `packages` for grouping related modules. By understanding these components, you'll gain the skills to build modular and maintainable Python programs.\"\n",
    "****"
   ]
  },
  {
   "cell_type": "markdown",
   "metadata": {
    "id": "AZyW4b81dVB_"
   },
   "source": [
    "The concepts of `functions`, `modules`, and `packages` are foundational to writing effective and maintainable Python code.\n",
    "\n",
    "- **Functions** are vital for encapsulating and reusing blocks of code. They allow you to perform specific tasks and operations without repeating code, enhancing clarity and reducing errors.\n",
    "\n",
    "- **Modules** help in organizing related functions, classes, and variables into separate files. This modular approach simplifies code management and improves readability by keeping related components together and making code easier to debug and update.\n",
    "\n",
    "- **Packages** take modularity a step further by allowing you to group related modules into directories. This hierarchical structure supports the management of larger codebases, helps avoid name conflicts, and facilitates better dependency management.\n",
    "\n",
    "These elements are crucial for writing organized, scalable, and efficient code, making development more manageable and collaboration more effective."
   ]
  },
  {
   "cell_type": "markdown",
   "metadata": {
    "id": "cYEQ6qKvdVB_"
   },
   "source": [
    "## 0. Functions\n",
    "\n",
    "Simply defined, a function is a piece of code, a set of instructions organized to perform one or more well-defined tasks. In Python, functions are categorized into two types: built-in functions and user-defined functions.\n",
    "\n",
    "- **Built-in functions** are functions that are directly integrated into Python's standard library.\n",
    "- **User-defined functions** are written either by the current user or by other users."
   ]
  },
  {
   "cell_type": "markdown",
   "metadata": {
    "id": "mCutRj8IdVCA"
   },
   "source": [
    "### 0.0. Some built-in functions in Python\n",
    "\n",
    "- **The `print()` function**: As we already know, the **print()** function displays the values of specified objects on the screen:\n",
    "```python\n",
    "print(\"Hello\", \"everyone\")\n",
    "x = 12\n",
    "print(x)\n",
    "y = [1, \"Monday\", \"12\", 5, 3, \"test value\"]\n",
    "print(y)\n",
    "```\n",
    "You can replace the default separator (a space) with another character (or even no character) using the `sep` argument:\n",
    "```python\n",
    "print(\"Hello\", \"everyone\", sep=\"****\")\n",
    "print(\"Hello\", \"everyone\", sep=\"\")\n",
    "```    \n",
    "\n",
    "- **The `input()` function**: The **input()** function allows the user to enter a value for a given argument:\n",
    "```python\n",
    "prenom = input(\"Enter your first name: \")\n",
    "print(\"Hello,\", prenom)\n",
    "```\n",
    "```python\n",
    "print(\"Please enter any positive number: \", end=\" \")\n",
    "ch = input()\n",
    "num = int(ch)  # Convert the string to an integer\n",
    "print(\"The square of\", num, \"is\", num**2)\n",
    "```"
   ]
  },
  {
   "cell_type": "markdown",
   "metadata": {
    "id": "tMFgj2t6dVCA"
   },
   "source": [
    "**Note**: It is important to note that the `input()` function always returns a string. If you need the user to enter a numeric value, you will have to convert the entered value (which will be of type string) into a numeric type using built-in functions like `int()` (for integers) or `float()` (for floating-point numbers)."
   ]
  },
  {
   "cell_type": "markdown",
   "metadata": {
    "id": "PGeKms2mdVCA"
   },
   "source": [
    "### 0.1. User-defined functions\n",
    "\n",
    "To define a function in Python, use the `def` keyword to declare the function name. The general syntax for defining a function is as follows:\n",
    "\n",
    "```python\n",
    "def functionName([parameter1, parameter2, ..., parameterN]):\n",
    "    \n",
    "    \"\"\"Documentation for the function.\"\"\"\n",
    "    \n",
    "    <block_of_instructions>\n",
    "```\n",
    "\n",
    "In the function definition, the first string of characters (called a docstring) serves as documentation for the function, accessible via the interpreter using, for example, `help(functionName)`, or `functionName?` in *Jupyter*. It should be relevant, concise, and comprehensive. It may also include usage examples.         "
   ]
  },
  {
   "cell_type": "markdown",
   "metadata": {
    "id": "aTMU6TYOdVCB"
   },
   "source": [
    "#### 0.1.0. Definition of a simple function without arguments**\n",
    "\n",
    "The example below illustrates the definition of a simple function without arguments. The purpose of this function is to print the first 20 values of the multiplication table for 8.\n",
    "\n",
    "```python\n",
    "def print_multiples_of_eight():\n",
    "    \"\"\"Prints the first 20 multiples of 8.\"\"\"\n",
    "    for i in range(1, 21):\n",
    "        print(f\"8 x {i} = {8 * i}\")\n",
    "\n",
    "# Calling the function\n",
    "print_multiples_of_eight()\n",
    "```"
   ]
  },
  {
   "cell_type": "code",
   "execution_count": 52,
   "metadata": {
    "id": "zN-bE0X8dVCC"
   },
   "outputs": [],
   "source": [
    "def multiplication_table_8(e):\n",
    "    \"\"\"\n",
    "    The purpose of this function is to display the first 20\n",
    "    values of the multiplication table for 8.\n",
    "    Input: None\n",
    "    Output: The multiplication table for 8\n",
    "    \"\"\"\n",
    "    n = 1\n",
    "    while n <= 20:\n",
    "        v = n * 8\n",
    "        print(n, 'x', 8, '=', v, sep=' ')\n",
    "        n = n + 1\n"
   ]
  },
  {
   "cell_type": "code",
   "execution_count": 54,
   "metadata": {},
   "outputs": [
    {
     "name": "stdout",
     "output_type": "stream",
     "text": [
      "1/3=0.3333333333333333\n",
      "2/3=0.6666666666666666\n",
      "3/3=1.0\n",
      "4/3=1.3333333333333333\n",
      "5/3=1.6666666666666667\n",
      "6/3=2.0\n",
      "7/3=2.3333333333333335\n",
      "8/3=2.6666666666666665\n",
      "9/3=3.0\n"
     ]
    },
    {
     "ename": "TypeError",
     "evalue": "print_division_of_three() missing 1 required positional argument: 'e'",
     "output_type": "error",
     "traceback": [
      "\u001b[1;31m---------------------------------------------------------------------------\u001b[0m",
      "\u001b[1;31mTypeError\u001b[0m                                 Traceback (most recent call last)",
      "Cell \u001b[1;32mIn[54], line 6\u001b[0m\n\u001b[0;32m      3\u001b[0m \u001b[38;5;28;01mfor\u001b[39;00m i \u001b[38;5;129;01min\u001b[39;00m \u001b[38;5;28mrange\u001b[39m (\u001b[38;5;241m1\u001b[39m,\u001b[38;5;241m10\u001b[39m):\n\u001b[0;32m      5\u001b[0m     \u001b[38;5;28mprint\u001b[39m(\u001b[38;5;124mf\u001b[39m\u001b[38;5;124m\"\u001b[39m\u001b[38;5;132;01m{\u001b[39;00mi\u001b[38;5;132;01m}\u001b[39;00m\u001b[38;5;124m/3=\u001b[39m\u001b[38;5;132;01m{\u001b[39;00mi\u001b[38;5;250m \u001b[39m\u001b[38;5;241m/\u001b[39m\u001b[38;5;250m \u001b[39m\u001b[38;5;241m3\u001b[39m\u001b[38;5;132;01m}\u001b[39;00m\u001b[38;5;124m\"\u001b[39m)\n\u001b[1;32m----> 6\u001b[0m print_division_of_three()\n",
      "\u001b[1;31mTypeError\u001b[0m: print_division_of_three() missing 1 required positional argument: 'e'"
     ]
    }
   ],
   "source": [
    "def print_division_of_three(e):\n",
    "    \"print the last 8 divisor of 3.\"\n",
    "for i in range (1,10):\n",
    "\n",
    "    print(f\"{i}/3={i / 3}\")\n",
    "print_division_of_three()"
   ]
  },
  {
   "cell_type": "markdown",
   "metadata": {
    "id": "nPcBEcjZdVCC"
   },
   "source": [
    "To execute the function `multiplication_table_8()` that we just defined, simply reference it by its name as follows (anywhere in the main program):\n",
    "\n",
    "```python\n",
    "multiplication_table_8()\n",
    "```"
   ]
  },
  {
   "cell_type": "code",
   "execution_count": 3,
   "metadata": {
    "id": "T_1QVAwgdVCD"
   },
   "outputs": [
    {
     "name": "stdout",
     "output_type": "stream",
     "text": [
      "1 x 8 = 8\n",
      "2 x 8 = 16\n",
      "3 x 8 = 24\n",
      "4 x 8 = 32\n",
      "5 x 8 = 40\n",
      "6 x 8 = 48\n",
      "7 x 8 = 56\n",
      "8 x 8 = 64\n",
      "9 x 8 = 72\n",
      "10 x 8 = 80\n",
      "11 x 8 = 88\n",
      "12 x 8 = 96\n",
      "13 x 8 = 104\n",
      "14 x 8 = 112\n",
      "15 x 8 = 120\n",
      "16 x 8 = 128\n",
      "17 x 8 = 136\n",
      "18 x 8 = 144\n",
      "19 x 8 = 152\n",
      "20 x 8 = 160\n"
     ]
    }
   ],
   "source": [
    "multiplication_table_8()  # Calls the function tableMultiplication8()"
   ]
  },
  {
   "cell_type": "code",
   "execution_count": 5,
   "metadata": {
    "id": "KGxH9m4tdVCD"
   },
   "outputs": [
    {
     "name": "stdout",
     "output_type": "stream",
     "text": [
      "8 x 1 = 8\n",
      "8 x 2 = 16\n",
      "8 x 3 = 24\n",
      "8 x 4 = 32\n",
      "8 x 5 = 40\n",
      "8 x 6 = 48\n",
      "8 x 7 = 56\n",
      "8 x 8 = 64\n",
      "8 x 9 = 72\n",
      "8 x 10 = 80\n",
      "8 x 11 = 88\n",
      "8 x 12 = 96\n",
      "8 x 13 = 104\n",
      "8 x 14 = 112\n",
      "8 x 15 = 120\n",
      "8 x 16 = 128\n",
      "8 x 17 = 136\n",
      "8 x 18 = 144\n",
      "8 x 19 = 152\n",
      "8 x 20 = 160\n"
     ]
    }
   ],
   "source": [
    "def print_multiples_of_eight():\n",
    "    \"\"\"Prints the first 20 multiples of 8.\"\"\"\n",
    "    for i in range(1, 21):\n",
    "        print(f\"8 x {i} = {8 * i}\")\n",
    "print_multiples_of_eight()"
   ]
  },
  {
   "cell_type": "markdown",
   "metadata": {
    "id": "W6mDXvdjdVCD"
   },
   "source": [
    "****  \n",
    "<left> <b> <span style=\"color:brown;\">Exercise: </span> </b></left>\n",
    "\n",
    "Propose a version of the function `tableMultiplication8()` using a `for` loop.  \n",
    "****"
   ]
  },
  {
   "cell_type": "markdown",
   "metadata": {
    "id": "YJJDrgN_dVCD"
   },
   "source": [
    "#### 0.1.1.  Définition d'une fonction dont les arguments sont des paramètres\n",
    "A parameter is a variable that takes a constant value. In the previous example, we created a multiplication table for 8. We can generalize this function so that it returns the multiplication table for any specified number as an argument. Since these numbers are parameters, we need to define a function where the arguments are parameters. See the example below:"
   ]
  },
  {
   "cell_type": "code",
   "execution_count": 3,
   "metadata": {
    "id": "e6liqxNgdVCD"
   },
   "outputs": [],
   "source": [
    "def tableMultiplication(base):\n",
    "    n = 1\n",
    "    while n <=20 :\n",
    "        v=n*base\n",
    "        print(n, 'x', base, '=', v, sep =' ')\n",
    "        n = n +1"
   ]
  },
  {
   "cell_type": "code",
   "execution_count": 9,
   "metadata": {
    "id": "yqNIkCh2dVCD"
   },
   "outputs": [
    {
     "name": "stdout",
     "output_type": "stream",
     "text": [
      "1 x 2 = 2\n",
      "2 x 2 = 4\n",
      "3 x 2 = 6\n",
      "4 x 2 = 8\n",
      "5 x 2 = 10\n",
      "6 x 2 = 12\n",
      "7 x 2 = 14\n",
      "8 x 2 = 16\n",
      "9 x 2 = 18\n",
      "10 x 2 = 20\n",
      "11 x 2 = 22\n",
      "12 x 2 = 24\n",
      "13 x 2 = 26\n",
      "14 x 2 = 28\n",
      "15 x 2 = 30\n",
      "16 x 2 = 32\n",
      "17 x 2 = 34\n",
      "18 x 2 = 36\n",
      "19 x 2 = 38\n",
      "20 x 2 = 40\n",
      "============================\n",
      "\n",
      "1 x 8 = 8\n",
      "2 x 8 = 16\n",
      "3 x 8 = 24\n",
      "4 x 8 = 32\n",
      "5 x 8 = 40\n",
      "6 x 8 = 48\n",
      "7 x 8 = 56\n",
      "8 x 8 = 64\n",
      "9 x 8 = 72\n",
      "10 x 8 = 80\n",
      "11 x 8 = 88\n",
      "12 x 8 = 96\n",
      "13 x 8 = 104\n",
      "14 x 8 = 112\n",
      "15 x 8 = 120\n",
      "16 x 8 = 128\n",
      "17 x 8 = 136\n",
      "18 x 8 = 144\n",
      "19 x 8 = 152\n",
      "20 x 8 = 160\n",
      "============================\n",
      "\n",
      "1 x 11 = 11\n",
      "2 x 11 = 22\n",
      "3 x 11 = 33\n",
      "4 x 11 = 44\n",
      "5 x 11 = 55\n",
      "6 x 11 = 66\n",
      "7 x 11 = 77\n",
      "8 x 11 = 88\n",
      "9 x 11 = 99\n",
      "10 x 11 = 110\n",
      "11 x 11 = 121\n",
      "12 x 11 = 132\n",
      "13 x 11 = 143\n",
      "14 x 11 = 154\n",
      "15 x 11 = 165\n",
      "16 x 11 = 176\n",
      "17 x 11 = 187\n",
      "18 x 11 = 198\n",
      "19 x 11 = 209\n",
      "20 x 11 = 220\n"
     ]
    }
   ],
   "source": [
    "tableMultiplication(2) # returns the multiplication table for 2\n",
    "print(\"============================\\n\")\n",
    "tableMultiplication(8) # returns the multiplication table for 8\n",
    "print(\"============================\\n\")\n",
    "tableMultiplication(11) # returns the multiplication table for 11"
   ]
  },
  {
   "cell_type": "code",
   "execution_count": 13,
   "metadata": {
    "id": "sCAUThYfdVCE"
   },
   "outputs": [
    {
     "name": "stdout",
     "output_type": "stream",
     "text": [
      "Multiplication Table for 8:\n",
      "=========================\n",
      " 1 x  8 =   8\n",
      " 2 x  8 =  16\n",
      " 3 x  8 =  24\n",
      " 4 x  8 =  32\n",
      " 5 x  8 =  40\n",
      " 6 x  8 =  48\n",
      " 7 x  8 =  56\n",
      " 8 x  8 =  64\n",
      " 9 x  8 =  72\n",
      "10 x  8 =  80\n",
      "11 x  8 =  88\n",
      "12 x  8 =  96\n",
      "13 x  8 = 104\n",
      "14 x  8 = 112\n",
      "15 x  8 = 120\n",
      "16 x  8 = 128\n",
      "17 x  8 = 136\n",
      "18 x  8 = 144\n",
      "19 x  8 = 152\n",
      "20 x  8 = 160\n",
      "=========================\n"
     ]
    }
   ],
   "source": [
    "# An example with a nicer display:\n",
    "\n",
    "\n",
    "def multiplication_table(n):\n",
    "    \"\"\"\n",
    "    The purpose of this function is to display the multiplication table for a given number `n`.\n",
    "    Input: n (int) - The number for which the multiplication table will be generated.\n",
    "    Output: The multiplication table for `n`.\n",
    "    \"\"\"\n",
    "    print(f\"Multiplication Table for {n}:\")\n",
    "    print(\"=\" * 25)\n",
    "    for i in range(1, 21):\n",
    "        result = i * n\n",
    "        print(f\"{i:2} x {n:2} = {result:3}\")\n",
    "    print(\"=\" * 25)\n",
    "\n",
    "# Example usage:\n",
    "multiplication_table(8)\n"
   ]
  },
  {
   "cell_type": "markdown",
   "metadata": {
    "id": "yoJTlrXAdVCE"
   },
   "source": [
    "#### 0.1.2.  One or More Parameters, No Return\n",
    "\n",
    "Example without the `return` statement, often referred to as a **procedure**. In this case, the function implicitly returns the value `None`:\n",
    "\n",
    "```python\n",
    "def table(base, start, end):\n",
    "    \"\"\"Displays the multiplication table of <base> from <start> to <end>.\"\"\"\n",
    "    n = start\n",
    "    while n <= end:\n",
    "        print(n, 'x', base, '=', n * base, end=\" \")\n",
    "        n += 1\n",
    "```\n",
    "\n",
    "```python\n",
    "# Example call:\n",
    "table(7, 2, 11)\n",
    "# 2 x 7 = 14 3 x 7 = 21 4 x 7 = 28 5 x 7 = 35 6 x 7 = 42\n",
    "# 7 x 7 = 49 8 x 7 = 56 9 x 7 = 63 10 x 7 = 70 11 x 7 = 77\n",
    "```\n",
    "\n",
    "---"
   ]
  },
  {
   "cell_type": "code",
   "execution_count": 49,
   "metadata": {
    "id": "L_xUqQEQdVCE"
   },
   "outputs": [
    {
     "name": "stdout",
     "output_type": "stream",
     "text": [
      "2 x 70 = 140 3 x 70 = 210 4 x 70 = 280 5 x 70 = 350 6 x 70 = 420 7 x 70 = 490 8 x 70 = 560 9 x 70 = 630 10 x 70 = 700 11 x 70 = 770 "
     ]
    }
   ],
   "source": [
    "def table(base, start, end):\n",
    "    \"\"\"Displays the multiplication table of <base> from <start> to <end>.\"\"\"\n",
    "    n = start\n",
    "    while n <= end:\n",
    "        print(n, 'x', base, '=', n * base, end=\" \")\n",
    "        n += 1\n",
    "table(70, 2, 11)"
   ]
  },
  {
   "cell_type": "code",
   "execution_count": 47,
   "metadata": {
    "id": "Y8wVYeKDdVCE"
   },
   "outputs": [
    {
     "name": "stdout",
     "output_type": "stream",
     "text": [
      "Multiplication Table for 7:\n",
      "Number    Result    \n",
      "--------------------\n",
      "2         14        \n",
      "3         21        \n",
      "4         28        \n",
      "5         35        \n",
      "6         42        \n",
      "7         49        \n",
      "8         56        \n",
      "9         63        \n",
      "10        70        \n",
      "11        77        \n",
      "12        84        \n",
      "13        91        \n",
      "14        98        \n",
      "15        105       \n",
      "16        112       \n",
      "17        119       \n",
      "18        126       \n",
      "19        133       \n",
      "20        140       \n",
      "21        147       \n",
      "22        154       \n",
      "23        161       \n",
      "24        168       \n",
      "25        175       \n",
      "26        182       \n",
      "27        189       \n",
      "28        196       \n",
      "29        203       \n",
      "30        210       \n",
      "31        217       \n",
      "32        224       \n",
      "33        231       \n",
      "34        238       \n",
      "35        245       \n",
      "36        252       \n",
      "37        259       \n",
      "38        266       \n",
      "39        273       \n",
      "40        280       \n",
      "41        287       \n",
      "42        294       \n",
      "43        301       \n",
      "44        308       \n",
      "45        315       \n",
      "46        322       \n",
      "47        329       \n",
      "48        336       \n",
      "49        343       \n",
      "50        350       \n",
      "51        357       \n",
      "52        364       \n",
      "53        371       \n",
      "54        378       \n",
      "55        385       \n",
      "56        392       \n",
      "57        399       \n",
      "58        406       \n",
      "59        413       \n",
      "60        420       \n",
      "61        427       \n",
      "62        434       \n",
      "63        441       \n",
      "64        448       \n",
      "65        455       \n",
      "66        462       \n",
      "67        469       \n",
      "68        476       \n",
      "69        483       \n",
      "70        490       \n",
      "71        497       \n",
      "72        504       \n",
      "73        511       \n",
      "74        518       \n",
      "75        525       \n",
      "76        532       \n",
      "77        539       \n",
      "78        546       \n",
      "79        553       \n",
      "80        560       \n",
      "81        567       \n",
      "82        574       \n",
      "83        581       \n",
      "84        588       \n",
      "85        595       \n",
      "86        602       \n",
      "87        609       \n",
      "88        616       \n",
      "89        623       \n",
      "90        630       \n",
      "91        637       \n",
      "92        644       \n",
      "93        651       \n",
      "94        658       \n",
      "95        665       \n",
      "96        672       \n",
      "97        679       \n",
      "98        686       \n",
      "99        693       \n",
      "100       700       \n",
      "101       707       \n"
     ]
    }
   ],
   "source": [
    "# Cool display\n",
    "\n",
    "def table(base, start, end):\n",
    "    \"\"\"Displays the multiplication table of <base> from <start> to <end>.\"\"\"\n",
    "    print(f\"Multiplication Table for {base}:\")\n",
    "    print(f\"{'Number':<10}{'Result':<10}\")\n",
    "    print(\"-\" * 20)\n",
    "    for n in range(start, end + 1):\n",
    "        print(f\"{n:<10}{n * base:<10}\")\n",
    "\n",
    "# Example call:\n",
    "table(7, 2, 101)"
   ]
  },
  {
   "cell_type": "markdown",
   "metadata": {
    "id": "nrZyuqMydVCE"
   },
   "source": [
    "#### One or more parameters, use of Return\n",
    "\n",
    "- Example with a single `return`:\n",
    "\n",
    "```python\n",
    "def square(x):\n",
    "    \"\"\"\n",
    "    Calculate the square of a number.\n",
    "\n",
    "    Args:\n",
    "    x (float): The number to be squared.\n",
    "\n",
    "    Returns:\n",
    "    float: The square of the input number.\n",
    "    \"\"\"\n",
    "    return x**2\n",
    "\n",
    "def squareArea(r):\n",
    "    \"\"\"\n",
    "    Calculate the area of a square given the length of its side.\n",
    "\n",
    "    Args:\n",
    "    r (float): The length of the side of the square.\n",
    "\n",
    "    Returns:\n",
    "    float: The area of the square.\n",
    "    \"\"\"\n",
    "    return square(r)\n",
    "\n",
    "# Input for the side length and display of the area\n",
    "side = float(input('Side: '))\n",
    "print(\"Square area =\", squareArea(side))\n",
    "\n",
    "```"
   ]
  },
  {
   "cell_type": "code",
   "execution_count": 45,
   "metadata": {
    "id": "ys_gEnQhdVCE"
   },
   "outputs": [
    {
     "name": "stdin",
     "output_type": "stream",
     "text": [
      "Side:  3445\n"
     ]
    },
    {
     "name": "stdout",
     "output_type": "stream",
     "text": [
      "Square area = 11868025.0\n"
     ]
    }
   ],
   "source": [
    "def square(x):\n",
    "    \"\"\"\n",
    "    Calculate the square of a number.\n",
    "\n",
    "    Args:\n",
    "    x (float): The number to be squared.\n",
    "\n",
    "    Returns:\n",
    "    float: The square of the input number.\n",
    "    \"\"\"\n",
    "    return x**2\n",
    "\n",
    "def squareArea(r):\n",
    "    \"\"\"\n",
    "    Calculate the area of a square given the length of its side.\n",
    "\n",
    "    Args:\n",
    "    r (float): The length of the side of the square.\n",
    "\n",
    "    Returns:\n",
    "    float: The area of the square.\n",
    "    \"\"\"\n",
    "    return square(r)\n",
    "\n",
    "# Input for the side length and display of the area\n",
    "side = float(input('Side: '))\n",
    "print(\"Square area =\", squareArea(side))"
   ]
  },
  {
   "cell_type": "markdown",
   "metadata": {
    "id": "eCjR2BhVdVCE"
   },
   "source": [
    "- Example with multiple returns:\n",
    "\n",
    "```python\n",
    "PI = 3.14\n",
    "\n",
    "def surfaceVolumeSphere(r):\n",
    "    \"\"\"\n",
    "    Calculate the surface area and volume of a sphere.\n",
    "\n",
    "    Args:\n",
    "    r (float): The radius of the sphere.\n",
    "\n",
    "    Returns:\n",
    "    tuple: A tuple containing the surface area and volume of the sphere.\n",
    "    \"\"\"\n",
    "    surf = 4.0 * PI * r**2\n",
    "    vol = surf * r / 3\n",
    "    return surf, vol\n",
    "\n",
    "```\n",
    "\n",
    "\n",
    "```python\n",
    "# Main program\n",
    "radius = float(input('Radius: '))\n",
    "s, v = surfaceVolumeSphere(radius)\n",
    "print(\"Sphere with surface {:g} and volume {:g}\".format(s, v))\n",
    "```"
   ]
  },
  {
   "cell_type": "code",
   "execution_count": 43,
   "metadata": {
    "id": "5T66gJVKdVCE"
   },
   "outputs": [
    {
     "name": "stdin",
     "output_type": "stream",
     "text": [
      "Radius:  444\n"
     ]
    },
    {
     "name": "stdout",
     "output_type": "stream",
     "text": [
      "Sphere with surface 2.47603e+06 and volume 3.66452e+08\n"
     ]
    }
   ],
   "source": [
    "PI = 3.14\n",
    "\n",
    "def surfaceVolumeSphere(r):\n",
    "   \n",
    "    surf = 4.0 * PI * r**2\n",
    "    vol = surf * r / 3\n",
    "    return surf, vol\n",
    "\n",
    "radius = float(input('Radius: '))\n",
    "s, v = surfaceVolumeSphere(radius)\n",
    "print(\"Sphere with surface {:g} and volume {:g}\".format(s, v))"
   ]
  },
  {
   "cell_type": "markdown",
   "metadata": {
    "id": "e2_Lz_w1dVCF"
   },
   "source": [
    "### 0.2. **Passing a Function as a Parameter**\n",
    "\n",
    "```python\n",
    "def tabulate(function, lowerBound, upperBound, numSteps):\n",
    "    \"\"\"Display the values of <function>. Conditions: (lowerBound < upperBound) and (numSteps > 0)\"\"\"\n",
    "    h, x = (upperBound - lowerBound) / float(numSteps), lowerBound\n",
    "    while x <= upperBound:\n",
    "        y = function(x)\n",
    "        print(\"f({:.2f}) = {:.2f}\".format(x, y))\n",
    "        x += h\n",
    "```\n",
    "\n",
    "```python\n",
    "def myFunction(x):\n",
    "    return 2 * x**3 + x - 5\n",
    "```\n",
    "```python\n",
    "tabulate(myFunction, -5, 5, 10)\n",
    "# f(-5.00) = -260.00\n",
    "# f(-4.00) = -137.00\n",
    "# ...\n",
    "# f(5.00) = 250.00\n",
    "```"
   ]
  },
  {
   "cell_type": "code",
   "execution_count": 7,
   "metadata": {
    "id": "whfbwjXRdVCF"
   },
   "outputs": [
    {
     "name": "stdout",
     "output_type": "stream",
     "text": [
      "f(-5.00) = -260.00\n",
      "f(-4.00) = -137.00\n",
      "f(-3.00) = -62.00\n",
      "f(-2.00) = -23.00\n",
      "f(-1.00) = -8.00\n",
      "f(0.00) = -5.00\n",
      "f(1.00) = -2.00\n",
      "f(2.00) = 13.00\n",
      "f(3.00) = 52.00\n",
      "f(4.00) = 127.00\n",
      "f(5.00) = 250.00\n"
     ]
    }
   ],
   "source": [
    "def tabulate(function, lowerBound, upperBound, numSteps):\n",
    "    \"\"\"Display the values of <function>. Conditions: (lowerBound < upperBound) and (numSteps > 0)\"\"\"\n",
    "    h, x = (upperBound - lowerBound) / float(numSteps), lowerBound\n",
    "    while x <= upperBound:\n",
    "        y = function(x)\n",
    "        print(\"f({:.2f}) = {:.2f}\".format(x, y))\n",
    "        x += h\n",
    "\n",
    "\n",
    "def myFunction(x):\n",
    "    return 2 * x**3 + x - 5\n",
    "\n",
    "\n",
    "tabulate(myFunction, -5, 5, 10)\n"
   ]
  },
  {
   "cell_type": "markdown",
   "metadata": {
    "id": "o_xLWZ56dVCF"
   },
   "source": [
    "### Improved Display and Explanation\n",
    "\n",
    "Here’s the improved version of the code with a more structured and readable output, followed by an explanation:\n",
    "\n",
    "```python\n",
    "def tabulate(function, lower_bound, upper_bound, num_steps):\n",
    "    \"\"\"\n",
    "    Displays the values of <function> within the range from <lower_bound> to <upper_bound>.\n",
    "    The function is evaluated at evenly spaced points determined by <num_steps>.\n",
    "    \n",
    "    Parameters:\n",
    "    function (callable): The function to be tabulated.\n",
    "    lower_bound (float): The starting point of the range.\n",
    "    upper_bound (float): The ending point of the range.\n",
    "    num_steps (int): The number of intervals in the range.\n",
    "    \n",
    "    Conditions:\n",
    "    - lower_bound < upper_bound\n",
    "    - num_steps > 0\n",
    "    \"\"\"\n",
    "    step_size = (upper_bound - lower_bound) / float(num_steps)\n",
    "    x = lower_bound\n",
    "    \n",
    "    print(\"Tabulation of the function from {:.2f} to {:.2f} with {} steps:\".format(lower_bound, upper_bound, num_steps))\n",
    "    print(\"----------------------------------------------------------\")\n",
    "    \n",
    "    while x <= upper_bound:\n",
    "        y = function(x)\n",
    "        print(\"f({:+.2f}) = {:+.2f}\".format(x, y))\n",
    "        x += step_size\n",
    "\n",
    "def my_function(x):\n",
    "    \"\"\"A sample function: f(x) = 2x^3 + x - 5\"\"\"\n",
    "    return 2 * x**3 + x - 5\n",
    "\n",
    "# Tabulate the function my_function from -5 to 5 with 10 steps\n",
    "tabulate(my_function, -5, 5, 10)\n",
    "```\n",
    "\n",
    "### Example Output:\n",
    "```\n",
    "Tabulation of the function from -5.00 to 5.00 with 10 steps:\n",
    "----------------------------------------------------------\n",
    "f(-5.00) = -260.00\n",
    "f(-4.00) = -137.00\n",
    "f(-3.00) = -68.00\n",
    "f(-2.00) = -27.00\n",
    "f(-1.00) = -8.00\n",
    "f(+0.00) = -5.00\n",
    "f(+1.00) = -2.00\n",
    "f(+2.00) = +19.00\n",
    "f(+3.00) = +82.00\n",
    "f(+4.00) = +203.00\n",
    "f(+5.00) = +395.00\n",
    "```\n",
    "\n",
    "### Explanation:\n",
    "\n",
    "1. **Function Parameters:**\n",
    "   - **`function`**: This parameter takes a function as its value. In the example, `my_function` is passed, which defines the mathematical expression \\(f(x) = 2x^3 + x - 5\\).\n",
    "   - **`lower_bound`**: The starting point of the range where the function will be evaluated.\n",
    "   - **`upper_bound`**: The endpoint of the range.\n",
    "   - **`num_steps`**: The number of intervals between the lower and upper bounds, determining how many times the function will be evaluated.\n",
    "\n",
    "2. **Step Size Calculation:**\n",
    "   - The **`step_size`** is calculated by dividing the difference between `upper_bound` and `lower_bound` by the number of steps (`num_steps`). This determines how much `x` will increment on each loop iteration.\n",
    "\n",
    "3. **Looping and Evaluation:**\n",
    "   - A `while` loop iterates from `lower_bound` to `upper_bound`, calculating the function value `y` at each point `x`.\n",
    "   - The loop prints each evaluated pair `(x, y)` in a well-formatted string, showing the results of the function evaluation.\n",
    "\n",
    "4. **Output Formatting:**\n",
    "   - The output is formatted to display the values with two decimal places for clarity and readability. The plus (`+`) sign before the numbers ensures both positive and negative signs are displayed.\n",
    "\n",
    "This structure makes it easy to understand how the function behaves over a specified range, providing clear and organized output."
   ]
  },
  {
   "cell_type": "code",
   "execution_count": 41,
   "metadata": {
    "id": "Rc61qIhGdVCF"
   },
   "outputs": [
    {
     "name": "stdout",
     "output_type": "stream",
     "text": [
      "Tabulation of the function from -5.00 to 5.00 with 100 steps:\n",
      "----------------------------------------------------------\n",
      "f(-5.00) = -260.00\n",
      "f(-4.90) = -245.20\n",
      "f(-4.80) = -230.98\n",
      "f(-4.70) = -217.35\n",
      "f(-4.60) = -204.27\n",
      "f(-4.50) = -191.75\n",
      "f(-4.40) = -179.77\n",
      "f(-4.30) = -168.31\n",
      "f(-4.20) = -157.38\n",
      "f(-4.10) = -146.94\n",
      "f(-4.00) = -137.00\n",
      "f(-3.90) = -127.54\n",
      "f(-3.80) = -118.54\n",
      "f(-3.70) = -110.01\n",
      "f(-3.60) = -101.91\n",
      "f(-3.50) = -94.25\n",
      "f(-3.40) = -87.01\n",
      "f(-3.30) = -80.17\n",
      "f(-3.20) = -73.74\n",
      "f(-3.10) = -67.68\n",
      "f(-3.00) = -62.00\n",
      "f(-2.90) = -56.68\n",
      "f(-2.80) = -51.70\n",
      "f(-2.70) = -47.07\n",
      "f(-2.60) = -42.75\n",
      "f(-2.50) = -38.75\n",
      "f(-2.40) = -35.05\n",
      "f(-2.30) = -31.63\n",
      "f(-2.20) = -28.50\n",
      "f(-2.10) = -25.62\n",
      "f(-2.00) = -23.00\n",
      "f(-1.90) = -20.62\n",
      "f(-1.80) = -18.46\n",
      "f(-1.70) = -16.53\n",
      "f(-1.60) = -14.79\n",
      "f(-1.50) = -13.25\n",
      "f(-1.40) = -11.89\n",
      "f(-1.30) = -10.69\n",
      "f(-1.20) = -9.66\n",
      "f(-1.10) = -8.76\n",
      "f(-1.00) = -8.00\n",
      "f(-0.90) = -7.36\n",
      "f(-0.80) = -6.82\n",
      "f(-0.70) = -6.39\n",
      "f(-0.60) = -6.03\n",
      "f(-0.50) = -5.75\n",
      "f(-0.40) = -5.53\n",
      "f(-0.30) = -5.35\n",
      "f(-0.20) = -5.22\n",
      "f(-0.10) = -5.10\n",
      "f(-0.00) = -5.00\n",
      "f(+0.10) = -4.90\n",
      "f(+0.20) = -4.78\n",
      "f(+0.30) = -4.65\n",
      "f(+0.40) = -4.47\n",
      "f(+0.50) = -4.25\n",
      "f(+0.60) = -3.97\n",
      "f(+0.70) = -3.61\n",
      "f(+0.80) = -3.18\n",
      "f(+0.90) = -2.64\n",
      "f(+1.00) = -2.00\n",
      "f(+1.10) = -1.24\n",
      "f(+1.20) = -0.34\n",
      "f(+1.30) = +0.69\n",
      "f(+1.40) = +1.89\n",
      "f(+1.50) = +3.25\n",
      "f(+1.60) = +4.79\n",
      "f(+1.70) = +6.53\n",
      "f(+1.80) = +8.46\n",
      "f(+1.90) = +10.62\n",
      "f(+2.00) = +13.00\n",
      "f(+2.10) = +15.62\n",
      "f(+2.20) = +18.50\n",
      "f(+2.30) = +21.63\n",
      "f(+2.40) = +25.05\n",
      "f(+2.50) = +28.75\n",
      "f(+2.60) = +32.75\n",
      "f(+2.70) = +37.07\n",
      "f(+2.80) = +41.70\n",
      "f(+2.90) = +46.68\n",
      "f(+3.00) = +52.00\n",
      "f(+3.10) = +57.68\n",
      "f(+3.20) = +63.74\n",
      "f(+3.30) = +70.17\n",
      "f(+3.40) = +77.01\n",
      "f(+3.50) = +84.25\n",
      "f(+3.60) = +91.91\n",
      "f(+3.70) = +100.01\n",
      "f(+3.80) = +108.54\n",
      "f(+3.90) = +117.54\n",
      "f(+4.00) = +127.00\n",
      "f(+4.10) = +136.94\n",
      "f(+4.20) = +147.38\n",
      "f(+4.30) = +158.31\n",
      "f(+4.40) = +169.77\n",
      "f(+4.50) = +181.75\n",
      "f(+4.60) = +194.27\n",
      "f(+4.70) = +207.35\n",
      "f(+4.80) = +220.98\n",
      "f(+4.90) = +235.20\n",
      "f(+5.00) = +250.00\n"
     ]
    }
   ],
   "source": [
    "def tabulate(function, lower_bound, upper_bound, num_steps):\n",
    "    \"\"\"\n",
    "    Displays the values of <function> within the range from <lower_bound> to <upper_bound>.\n",
    "    The function is evaluated at evenly spaced points determined by <num_steps>.\n",
    "\n",
    "    Parameters:\n",
    "    function (callable): The function to be tabulated.\n",
    "    lower_bound (float): The starting point of the range.\n",
    "    upper_bound (float): The ending point of the range.\n",
    "    num_steps (int): The number of intervals in the range.\n",
    "\n",
    "    Conditions:\n",
    "    - lower_bound < upper_bound\n",
    "    - num_steps > 0\n",
    "    \"\"\"\n",
    "    step_size = (upper_bound - lower_bound) / float(num_steps)\n",
    "    x = lower_bound\n",
    "\n",
    "    print(\"Tabulation of the function from {:.2f} to {:.2f} with {} steps:\".format(lower_bound, upper_bound, num_steps))\n",
    "    print(\"----------------------------------------------------------\")\n",
    "\n",
    "    while x <= upper_bound:\n",
    "        y = function(x)\n",
    "        print(\"f({:+.2f}) = {:+.2f}\".format(x, y))\n",
    "        x += step_size\n",
    "\n",
    "def my_function(x):\n",
    "    \"\"\"A sample function: f(x) = 2x^3 + x - 5\"\"\"\n",
    "    return 2 * x**3 + x - 5\n",
    "\n",
    "# Tabulate the function my_function from -5 to 5 with 10 steps\n",
    "tabulate(my_function, -5, 5, 100)"
   ]
  },
  {
   "cell_type": "markdown",
   "metadata": {
    "id": "GfrzdbitdVCG"
   },
   "source": [
    "### 0.3. Defining default values for function arguments**\n",
    "\n",
    "When defining a function, it is often recommended to set default values for certain arguments, especially optional ones. By defining default values for a function's arguments, it becomes possible to call the function with only some of the expected arguments. Here are some examples:\n",
    "\n",
    "```python\n",
    "def greeting(name, title='Monsieur'):\n",
    "    \"\"\"\n",
    "    Displays a greeting message with the given name and an optional title.\n",
    "    \n",
    "    Parameters:\n",
    "    name (str): The name of the person to greet.\n",
    "    title (str, optional): The title of the person (default is 'Monsieur').\n",
    "    \n",
    "    Returns:\n",
    "    None\n",
    "    \"\"\"\n",
    "    print(\"Bonjour\", title, name)\n",
    "```\n",
    "\n",
    "- **Explanation**:  \n",
    "  The `greeting` function has two arguments: `name` and `title`. A default value ('Monsieur') has been set for the `title` argument. Therefore, when the `greeting` function is called with only the `name` argument (omitting the `title` argument), the function will use the default value 'Monsieur'.\n",
    "\n",
    "\n",
    "\n",
    "\n"
   ]
  },
  {
   "cell_type": "code",
   "execution_count": 11,
   "metadata": {
    "id": "ubbaZhXrdVCG"
   },
   "outputs": [],
   "source": [
    "def greeting(name, title='Monsieur'):\n",
    "    \"\"\"\n",
    "    Displays a greeting message with the given name and an optional title.\n",
    "\n",
    "    Parameters:\n",
    "    name (str): The name of the person to greet.\n",
    "    title (str, optional): The title of the person (default is 'Monsieur').\n",
    "\n",
    "    Returns:\n",
    "    None\n",
    "    \"\"\"\n",
    "    print(\"Bonjour\", title, name)"
   ]
  },
  {
   "cell_type": "markdown",
   "metadata": {
    "id": "0goCUwRfdVCG"
   },
   "source": [
    "**Example Usage:**\n",
    "\n",
    "```python\n",
    "greeting('Dupont')\n",
    "# Output: Bonjour Monsieur Dupont\n",
    "```"
   ]
  },
  {
   "cell_type": "code",
   "execution_count": 13,
   "metadata": {
    "id": "obzBu8asdVCG"
   },
   "outputs": [
    {
     "name": "stdout",
     "output_type": "stream",
     "text": [
      "Bonjour Monsieur Dupont\n"
     ]
    }
   ],
   "source": [
    "greeting('Dupont')\n",
    "# Output: Bonjour Monsieur Dupont"
   ]
  },
  {
   "cell_type": "markdown",
   "metadata": {
    "id": "7y2owTOSdVCG"
   },
   "source": [
    "- **Explanation**:  \n",
    "  When the function is called with both arguments, the default value is overridden by the provided value."
   ]
  },
  {
   "cell_type": "markdown",
   "metadata": {
    "id": "5Nub2eAHdVCH"
   },
   "source": [
    "**Example:**\n",
    "\n",
    "```python\n",
    "greeting('Dupont', 'Mademoiselle')\n",
    "# Output: Bonjour Mademoiselle Dupont\n",
    "```"
   ]
  },
  {
   "cell_type": "code",
   "execution_count": 15,
   "metadata": {
    "id": "2JFTgIXkdVCH"
   },
   "outputs": [
    {
     "name": "stdout",
     "output_type": "stream",
     "text": [
      "Bonjour Mademoiselle Dupont\n"
     ]
    }
   ],
   "source": [
    "greeting('Dupont', 'Mademoiselle')\n",
    "# Output: Bonjour Mademoiselle Dupont"
   ]
  },
  {
   "cell_type": "markdown",
   "metadata": {
    "id": "XDgcbZiYdVCH"
   },
   "source": [
    "- **Explanation**:  \n",
    "  By defining default values for a function's arguments, you can make the function calls more flexible, allowing it to be called with only a subset of the expected arguments when needed."
   ]
  },
  {
   "cell_type": "markdown",
   "metadata": {
    "id": "AAL_x429dVCH"
   },
   "source": [
    "\n",
    "**Note:**\n",
    "\n",
    "Arguments without default values must be specified before arguments with default values. If this rule is not followed, Python will raise an error during execution. For example, the following function definition is incorrect:\n",
    "\n",
    "```python\n",
    "def greeting(title='Monsieur', name):\n",
    "    \"\"\"\n",
    "    This function is incorrectly defined and will raise an error because the argument\n",
    "    with a default value ('title') comes before an argument without a default value ('name').\n",
    "    \n",
    "    Parameters:\n",
    "    title (str, optional): The title of the person (default is 'Monsieur').\n",
    "    name (str): The name of the person to greet.\n",
    "    \n",
    "    Returns:\n",
    "    None\n",
    "    \"\"\"\n",
    "```\n",
    "\n",
    "- **Explanation**:  \n",
    "  The `greeting` function is defined incorrectly because `title`, an argument with a default value, is placed before `name`, an argument without a default value. In Python, arguments without default values must precede those with default values to avoid a syntax error."
   ]
  },
  {
   "cell_type": "markdown",
   "metadata": {
    "id": "momKUtcAdVCH"
   },
   "source": [
    "### 0.4. Lambda Functions\n",
    "\n",
    "A lambda function is an anonymous function, meaning it is a function that consists of a block of instructions that can be called and reused like a regular function but without a name. Lambda functions are typically used for very short functions with few instructions, which do not require a full function definition using the `def` keyword.\n",
    "\n",
    "The general syntax for defining a lambda function is as follows:\n",
    "\n",
    "```python\n",
    "lambda arg1, arg2, ..., argN : instruction_block (or formula)\n",
    "```\n",
    "\n",
    "The example below illustrates the definition of a lambda function:\n",
    "\n",
    "```python\n",
    "lambda x, y : x * y\n",
    "```"
   ]
  },
  {
   "cell_type": "markdown",
   "metadata": {
    "id": "ks-sej-qdVCI"
   },
   "source": [
    "Notons toutefois que même si la fonction lambda n’est pas définie avec un nom, pour\n",
    "récupérer la valeur renvoyée, lors de l’appel de la fonction, il faut l’assigner à une nouvelle\n",
    "variable. L’exemple ci-dessous illustre l’appel de la fonction lambda précédente en prenant x=2\n",
    "et y=3.\n",
    "```python\n",
    "   x = lambda x, y : x * y\n",
    "   x(2,3)\n",
    "```"
   ]
  },
  {
   "cell_type": "code",
   "execution_count": 1,
   "metadata": {
    "id": "gmJfO588dVCI"
   },
   "outputs": [
    {
     "data": {
      "text/plain": [
       "6"
      ]
     },
     "execution_count": 1,
     "metadata": {},
     "output_type": "execute_result"
    }
   ],
   "source": [
    "x = lambda x, y : x * y\n",
    "x(2,3)"
   ]
  },
  {
   "cell_type": "markdown",
   "metadata": {
    "id": "dUIzH0HrdVCJ"
   },
   "source": [
    "<left> <b> <span style=\"color:red;\">\n",
    "Note: When we define variables inside a function, these variables are only accessible within that function itself. These variables are referred to as `« local »` to the function. However, when variables are defined outside of the function in the main program body, they are called `« global »` variables. The content of a global variable is visible and accessible from within a function, but the function cannot modify the value of the variable.</span> </b></left>\n",
    "\n",
    "```python\n",
    "def myFunction():\n",
    "    p = 20\n",
    "    print(p, q)\n",
    "\n",
    "p = 15\n",
    "q = 38\n",
    "\n",
    "print(p, q)  # Outputs: 15 38\n",
    "myFunction()  # Calls the function, Outputs: 20 38\n",
    "print(p, q)  # Outputs: 15 38\n",
    "```"
   ]
  },
  {
   "cell_type": "code",
   "execution_count": 3,
   "metadata": {
    "id": "0eGOtvhqdVCJ"
   },
   "outputs": [
    {
     "name": "stdout",
     "output_type": "stream",
     "text": [
      "15 38\n",
      "20 38\n",
      "15 38\n"
     ]
    }
   ],
   "source": [
    "\n",
    "def myFunction():\n",
    "    p = 20\n",
    "    print(p, q)\n",
    "\n",
    "p = 15\n",
    "q = 38\n",
    "\n",
    "print(p, q)  # Outputs: 15 38\n",
    "myFunction()  # Calls the function, Outputs: 20 38\n",
    "print(p, q)  # Outputs: 15 38\n"
   ]
  },
  {
   "cell_type": "markdown",
   "metadata": {
    "id": "NfOs04xydVCJ"
   },
   "source": [
    "**Explanation:**\n",
    "\n",
    "1. **Global and Local Variables:**\n",
    "   - The variables `p` and `q` are defined in the global scope, outside the function `myFunction()`. Hence, they are global variables.\n",
    "   - Inside `myFunction()`, a new variable `p` is defined with the value `20`. This `p` is local to the function and does not affect the global `p`.\n",
    "\n",
    "2. **Output Analysis:**\n",
    "   - **Before Function Call (`print(p, q)`):** This prints the global values of `p` and `q`, which are `15` and `38`, respectively.\n",
    "   - **Inside Function (`myFunction()`):** When `myFunction()` is called, it prints the local `p` (which is `20`) and the global `q` (which remains `38`). The local `p` inside the function shadows the global `p` but does not change it.\n",
    "   - **After Function Call (`print(p, q)`):** This again prints the global values of `p` and `q`, which are still `15` and `38`, as the local `p` inside the function did not alter the global `p`."
   ]
  },
  {
   "cell_type": "markdown",
   "metadata": {
    "id": "UdG1r8BDdVCJ"
   },
   "source": [
    "\n",
    "However, you can modify this default behavior by allowing the function to modify the value of a global variable. To do this, you must explicitly declare the variable as global within the function. Example:\n",
    "\n",
    "```python\n",
    "def myFunction():\n",
    "    global p\n",
    "    p = 20\n",
    "    print(p, q)\n",
    "\n",
    "p = 15\n",
    "q = 38\n",
    "\n",
    "print(p, q)  # Outputs: 15 38\n",
    "myFunction()  # Calls the function, Outputs: 20 38\n",
    "print(p, q)  # Outputs: 20 38\n",
    "```\n",
    "\n",
    "**Explanation:**\n",
    "\n",
    "1. **Global Declaration:**\n",
    "   - Inside `myFunction()`, the `global` keyword is used to indicate that `p` refers to the global variable `p`, not a new local variable.\n",
    "\n",
    "2. **Output Analysis:**\n",
    "   - **Before Function Call (`print(p, q)`):** This prints the global values of `p` and `q`, which are `15` and `38`, respectively.\n",
    "   - **Inside Function (`myFunction()`):** When `myFunction()` is called, it sets the global `p` to `20` and prints this new value of `p` along with the global `q` (which remains `38`).\n",
    "   - **After Function Call (`print(p, q)`):** This prints the updated global values of `p` and `q`, which are now `20` and `38`, respectively, reflecting the change made inside `myFunction()`."
   ]
  },
  {
   "cell_type": "code",
   "execution_count": 17,
   "metadata": {
    "id": "4nrsJ-hodVCJ"
   },
   "outputs": [
    {
     "name": "stdout",
     "output_type": "stream",
     "text": [
      "15 38\n",
      "20 38\n",
      "20 38\n"
     ]
    }
   ],
   "source": [
    "def myFunction():\n",
    "    global p\n",
    "    p = 20\n",
    "    print(p, q)\n",
    "\n",
    "p = 15\n",
    "q = 38\n",
    "\n",
    "print(p, q)  # Outputs: 15 38\n",
    "myFunction()  # Calls the function, Outputs: 20 38\n",
    "print(p, q)  # Outputs: 20 38"
   ]
  },
  {
   "cell_type": "markdown",
   "metadata": {
    "id": "9-_fesQidVCJ"
   },
   "source": [
    "### 0.5. Arbitrary number of arguments\n",
    "\n",
    "#### 0.5.0. Passing a Tuple"
   ]
  },
  {
   "cell_type": "code",
   "execution_count": 7,
   "metadata": {
    "id": "kjCHJkHbdVCK"
   },
   "outputs": [
    {
     "name": "stdout",
     "output_type": "stream",
     "text": [
      "23\n",
      "78\n"
     ]
    }
   ],
   "source": [
    "def somme(*args):\n",
    "    \"\"\"Returns the sum of the <tuple>.\"\"\"\n",
    "    resultat = 0\n",
    "    for nombre in args:\n",
    "        resultat += nombre\n",
    "    return resultat\n",
    "\n",
    "# Example calls:\n",
    "print(somme(23)) # 23\n",
    "print(somme(23, 42, 13)) # 78\n"
   ]
  },
  {
   "cell_type": "markdown",
   "metadata": {
    "id": "J54WzTsudVCK"
   },
   "source": [
    "```python\n",
    "If the function has multiple arguments, the *tuple* is in the last position. It is also possible to pass a tuple (or actually a sequence) to the call, which will be unpacked into a list of parameters for a \"classic\" function:\n",
    "\n",
    "```python\n",
    "def somme(a, b, c):\n",
    "    return a + b + c\n",
    "\n",
    "# Example call:\n",
    "elements = (2, 4, 6)\n",
    "print(somme(*elements)) # 12\n",
    "```"
   ]
  },
  {
   "cell_type": "markdown",
   "metadata": {
    "id": "I03sRObidVCK"
   },
   "source": [
    "#### 0.5.1. Passing a Dictionary"
   ]
  },
  {
   "cell_type": "code",
   "execution_count": 9,
   "metadata": {
    "id": "f0XRhf9GdVCK"
   },
   "outputs": [
    {
     "name": "stdout",
     "output_type": "stream",
     "text": [
      "{'a': 23, 'b': 42}\n",
      "{'d': 85, 'e': 14, 'f': 9}\n"
     ]
    }
   ],
   "source": [
    "def unDict(**kargs):\n",
    "    return kargs\n",
    "\n",
    "# Examples of calls\n",
    "## Using named parameters:\n",
    "print(unDict(a=23, b=42)) # {'a': 23, 'b': 42}\n",
    "\n",
    "## Providing a dictionary:\n",
    "mots = {'d': 85, 'e': 14, 'f': 9}\n",
    "print(unDict(**mots)) # {'d': 85, 'e': 14, 'f': 9}\n"
   ]
  },
  {
   "cell_type": "markdown",
   "metadata": {
    "id": "9X9Sj7O4dVCK"
   },
   "source": [
    "### 0.6. Documenting a Function\n",
    "\n",
    "After creating a function (especially a relatively long and complex one), it is highly recommended to document it to allow other users to understand it quickly. Function documentation is typically a string that provides an overview of the function and useful details. This description is generally specified right after the function's name declaration and before the definition of other instruction blocks. The example below illustrates how to document a function and how to access this documentation when needed."
   ]
  },
  {
   "cell_type": "code",
   "execution_count": 13,
   "metadata": {
    "id": "WLVOXMt-dVCK"
   },
   "outputs": [],
   "source": [
    "def volumeSphere():\n",
    "    \"\"\" This program calculates the volume of a sphere.\n",
    "    The function is defined with a single required argument r\n",
    "    which represents the radius of the sphere.\n",
    "    It can take any positive value.\"\"\"\n",
    "    r = float(input(\"Enter the radius of the sphere: \"))\n",
    "    PI = 3.14\n",
    "    return (4 * PI * r**3) / 3\n"
   ]
  },
  {
   "cell_type": "markdown",
   "metadata": {
    "id": "-2d46uD9dVCL"
   },
   "source": [
    "In the definition of the `volumeSphere` function, the string does not play any functional role in the script; it is treated by Python as a simple comment but is stored as internal documentation for the function. This documentation is stored in an attribute called `__doc__`. To display this attribute, you use:\n",
    "\n",
    "```python\n",
    "print(volumeSphere.__doc__)\n",
    "```"
   ]
  },
  {
   "cell_type": "code",
   "execution_count": 15,
   "metadata": {
    "id": "dbiYD5didVCL"
   },
   "outputs": [
    {
     "name": "stdout",
     "output_type": "stream",
     "text": [
      " This program calculates the volume of a sphere.\n",
      "    The function is defined with a single required argument r\n",
      "    which represents the radius of the sphere.\n",
      "    It can take any positive value.\n"
     ]
    }
   ],
   "source": [
    "print(volumeSphere.__doc__)"
   ]
  },
  {
   "cell_type": "markdown",
   "metadata": {
    "id": "3c77kI2rdVCL"
   },
   "source": [
    "## 1. Modules\n",
    "\n",
    "A Python program is generally composed of several source files, called *modules*. Their names have the `.py` suffix. If correctly coded, modules should be independent of each other and reusable on demand in other programs.\n",
    "\n",
    "**Modules are files that group sets of functions.** A **module** is an independent file that allows a program to be split into several scripts. This mechanism allows for the efficient creation of function or class libraries.\n",
    "\n",
    "**Advantages of modules:**\n",
    "- Code reuse;\n",
    "- Documentation and tests can be integrated into the module;\n",
    "- Implementation of shared services or data;\n",
    "- Partitioning of the system's namespace.\n",
    "\n",
    "Just as dictionaries are collections of objects (lists, tuples, sets, etc.), modules are collections of functions that perform related tasks. For example, the `math` module contains a number of mathematical functions such as sine, cosine, tangent, square root, etc. Many modules are already pre-installed in Python's standard library. However, to perform certain specific tasks, you often need to install additional modules (e.g., `numpy`, `scipy`, `matplotlib`, `pandas`, etc.)."
   ]
  },
  {
   "cell_type": "markdown",
   "metadata": {
    "id": "bVCBIglDdVCL"
   },
   "source": [
    "### 1.0. Importing a Module\n",
    "\n",
    "There are two possible syntaxes:\n",
    "\n",
    "- The `import nom_module` command imports all objects from the module:\n",
    "  ```python\n",
    "     import tkinter\n",
    "  ```\n",
    "- The `from <nom_module> import obj1, obj2` command imports only the specified objects `obj1, obj2...` from the module:\n",
    "  ```python\n",
    "     from math import pi, sin, log\n",
    "  ```\n",
    "\n",
    "It is recommended to import in the following order:\n",
    "- Standard library modules;\n",
    "- Third-party library modules;\n",
    "- Personal modules."
   ]
  },
  {
   "cell_type": "markdown",
   "metadata": {
    "id": "VUfuqeUAdVCL"
   },
   "source": [
    "### 1.1. The Standard Library\n",
    "\n",
    "It is often said that Python comes \"batteries included\" due to its standard library, which is rich with over 200 packages and modules designed to address a wide range of common problems. See [The Python Standard Library](https://docs.python.org/3/library/index.html)."
   ]
  },
  {
   "cell_type": "code",
   "execution_count": 17,
   "metadata": {
    "id": "mcaMJxzHdVCL"
   },
   "outputs": [
    {
     "data": {
      "text/plain": [
       "['__doc__',\n",
       " '__loader__',\n",
       " '__name__',\n",
       " '__package__',\n",
       " '__spec__',\n",
       " 'acos',\n",
       " 'acosh',\n",
       " 'asin',\n",
       " 'asinh',\n",
       " 'atan',\n",
       " 'atan2',\n",
       " 'atanh',\n",
       " 'cbrt',\n",
       " 'ceil',\n",
       " 'comb',\n",
       " 'copysign',\n",
       " 'cos',\n",
       " 'cosh',\n",
       " 'degrees',\n",
       " 'dist',\n",
       " 'e',\n",
       " 'erf',\n",
       " 'erfc',\n",
       " 'exp',\n",
       " 'exp2',\n",
       " 'expm1',\n",
       " 'fabs',\n",
       " 'factorial',\n",
       " 'floor',\n",
       " 'fmod',\n",
       " 'frexp',\n",
       " 'fsum',\n",
       " 'gamma',\n",
       " 'gcd',\n",
       " 'hypot',\n",
       " 'inf',\n",
       " 'isclose',\n",
       " 'isfinite',\n",
       " 'isinf',\n",
       " 'isnan',\n",
       " 'isqrt',\n",
       " 'lcm',\n",
       " 'ldexp',\n",
       " 'lgamma',\n",
       " 'log',\n",
       " 'log10',\n",
       " 'log1p',\n",
       " 'log2',\n",
       " 'modf',\n",
       " 'nan',\n",
       " 'nextafter',\n",
       " 'perm',\n",
       " 'pi',\n",
       " 'pow',\n",
       " 'prod',\n",
       " 'radians',\n",
       " 'remainder',\n",
       " 'sin',\n",
       " 'sinh',\n",
       " 'sqrt',\n",
       " 'sumprod',\n",
       " 'tan',\n",
       " 'tanh',\n",
       " 'tau',\n",
       " 'trunc',\n",
       " 'ulp']"
      ]
     },
     "execution_count": 17,
     "metadata": {},
     "output_type": "execute_result"
    }
   ],
   "source": [
    "import math\n",
    "dir(math)  # To see the list of functions and attributes in the module."
   ]
  },
  {
   "cell_type": "code",
   "execution_count": 19,
   "metadata": {
    "id": "HlPLSL9KdVCL"
   },
   "outputs": [
    {
     "name": "stdout",
     "output_type": "stream",
     "text": [
      "Help on built-in function gamma in module math:\n",
      "\n",
      "gamma(x, /)\n",
      "    Gamma function at x.\n",
      "\n"
     ]
    }
   ],
   "source": [
    "help(math.gamma)  # Displays the documentation for the gamma function in the math module."
   ]
  },
  {
   "cell_type": "code",
   "execution_count": 25,
   "metadata": {
    "id": "McfB1U6IdVCL"
   },
   "outputs": [],
   "source": [
    "from math import sin  # Imports the sine function\n",
    "\n",
    "from math import cos, sin, tan, pi  # Imports the cosine, sine, tangent functions, and the value of pi (3.14)\n"
   ]
  },
  {
   "cell_type": "code",
   "execution_count": 27,
   "metadata": {
    "id": "0DZHD7t-dVCM"
   },
   "outputs": [],
   "source": [
    "from math import *  # Imports all functions and constants from the math module (equivalent to import math)\n"
   ]
  },
  {
   "cell_type": "markdown",
   "metadata": {
    "id": "JwKUxklUdVCM"
   },
   "source": [
    "<left> <b> <span style=\"color:brown;\">Some uses of the math function: </span> </b></left>\n",
    "\n",
    "```python\n",
    "from math import *\n",
    "\n",
    "v = 16  # defines a variable v\n",
    "x = sqrt(v)  # Returns the square root of v\n",
    "y = exp(v)   # Returns the exponential of v\n",
    "z = log(v)   # Returns the natural logarithm of v\n",
    "```"
   ]
  },
  {
   "cell_type": "code",
   "execution_count": null,
   "metadata": {
    "id": "W99VMCU4dVCM"
   },
   "outputs": [],
   "source": [
    "from math import *\n",
    "v = 16  # defines a variable v\n",
    "x = sqrt(v)  # Returns the square root of v\n",
    "y = exp(v)   # Returns the exponential of v\n",
    "z = log(v)   # Returns the natural logarithm of v\n",
    "print(v, x, y, z)"
   ]
  },
  {
   "cell_type": "markdown",
   "metadata": {
    "id": "EXG0SudEdVCM"
   },
   "source": [
    "<left> <b> <span style=\"color:brown;\">Some examples of using the random module: </span> </b></left>\n",
    "\n",
    "```python\n",
    "from random import random, randint, seed, uniform, randrange, sample, shuffle  # Imports some useful functions from random\n",
    "```"
   ]
  },
  {
   "cell_type": "code",
   "execution_count": 29,
   "metadata": {
    "id": "IJp8BIc6dVCM"
   },
   "outputs": [
    {
     "name": "stdout",
     "output_type": "stream",
     "text": [
      "0.19506863939022312\n"
     ]
    }
   ],
   "source": [
    "import random\n",
    "\n",
    "x = random.random()  # Returns a random number between 0.0 and 1.0\n",
    "print(x)\n"
   ]
  },
  {
   "cell_type": "code",
   "execution_count": 31,
   "metadata": {
    "id": "yn0H7bVydVCM"
   },
   "outputs": [
    {
     "name": "stdout",
     "output_type": "stream",
     "text": [
      "5\n"
     ]
    }
   ],
   "source": [
    "import random\n",
    "\n",
    "x = random.randint(5, 17)  # Returns a random integer between 5 and 17 (inclusive)\n",
    "print(x)\n"
   ]
  },
  {
   "cell_type": "code",
   "execution_count": 33,
   "metadata": {
    "id": "0GC_mX2JdVCN"
   },
   "outputs": [
    {
     "name": "stdout",
     "output_type": "stream",
     "text": [
      "5.035636926223283\n"
     ]
    }
   ],
   "source": [
    "import random\n",
    "\n",
    "x = random.uniform(5, 17)  # Returns a random floating-point number between 5 and 17\n",
    "print(x)\n"
   ]
  },
  {
   "cell_type": "markdown",
   "metadata": {
    "id": "6e2YPAckdVCN"
   },
   "source": [
    "## Feel free to explore the `turtle`, `time`, `decimal`, `fractions`, `cmath` modules."
   ]
  },
  {
   "cell_type": "markdown",
   "metadata": {
    "id": "jMXyG4HldVCN"
   },
   "source": [
    "### 1.2. Third-Party Libraries\n",
    "\n",
    "In addition to the modules included in the standard Python distribution, you can find libraries in various fields:\n",
    "- Scientific\n",
    "- Databases\n",
    "- Functional testing and quality control\n",
    "- 3D\n",
    "- ...\n",
    "\n",
    "The [PYPI](https://pypi.org/) (The Python Package Index) lists thousands of modules and packages!"
   ]
  },
  {
   "cell_type": "markdown",
   "metadata": {
    "id": "1h1zG48ydVCN"
   },
   "source": [
    "### 1.3. Define and use your own module\n",
    "\n",
    "You can create your own module by gathering several functions into a single script and saving it with the `.py` extension in the current directory. The name should be simple and not create ambiguity with other Python objects. For example, you might choose `myprogram.py`.\n",
    "\n",
    "Once the script is saved in the current directory, you can import the module like a standard module, and all its functions (and variables) become accessible. The module is imported using the command:\n",
    "\n",
    "```python\n",
    "import myprogram\n",
    "```\n",
    "\n",
    "You can then use the functions from the module as you would with any standard module. For example:\n",
    "\n",
    "```python\n",
    "# myprogram.py\n",
    "def greet(name):\n",
    "    \"\"\"Returns a greeting message.\"\"\"\n",
    "    return f\"Hello, {name}!\"\n",
    "\n",
    "def add(a, b):\n",
    "    \"\"\"Returns the sum of two numbers.\"\"\"\n",
    "    return a + b\n",
    "```\n",
    "\n",
    "```python\n",
    "# main.py\n",
    "import myprogram\n",
    "\n",
    "print(myprogram.greet(\"Alice\"))  # Output: Hello, Alice!\n",
    "print(myprogram.add(5, 7))       # Output: 12\n",
    "```"
   ]
  },
  {
   "cell_type": "code",
   "execution_count": 1,
   "metadata": {},
   "outputs": [
    {
     "name": "stdout",
     "output_type": "stream",
     "text": [
      "Hello, Alice!\n",
      "12\n"
     ]
    }
   ],
   "source": [
    "import myprogram\n",
    "\n",
    "print(myprogram.greet(\"Alice\"))  # Output: Hello, Alice!\n",
    "print(myprogram.add(5, 7))       # Output: 12"
   ]
  },
  {
   "cell_type": "markdown",
   "metadata": {
    "id": "E_zY07vmdVCN"
   },
   "source": [
    "Open your preferred text editor and write the following code, which you should save as `cube_m.py`:\n",
    "\n",
    "```python\n",
    "# A module named cube_m.py\n",
    "def cube(y):\n",
    "    \"\"\"Calculates the cube of the parameter <y>.\"\"\"\n",
    "    return y**3\n",
    "\n",
    "\n",
    "# Self-test ----------------------------------------------------\n",
    "if __name__ == \"__main__\": # False when imported ==> ignored\n",
    "    help(cube)\n",
    "    # displays the docstring of the function\n",
    "    print(\"cube of 9:\", cube(9)) # cube of 9: 729\n",
    "```\n",
    "\n",
    "```python\n",
    "# Using this module. We import the function cube() from the file cube_m.py:\n",
    "from cube_m import cube\n",
    "\n",
    "for i in range(1, 4):\n",
    "    print(\"cube of\", i, \"=\", cube(i), end=\" \")\n",
    "# cube of 1 = 1 cube of 2 = 8 cube of 3 = 27\n",
    "```"
   ]
  },
  {
   "cell_type": "markdown",
   "metadata": {
    "id": "5WXhYG4LdVCN"
   },
   "source": [
    "## 2. Package\n",
    "\n",
    "A second level of organization allows for structuring the code: Python files can be organized in a directory hierarchy called a `package`.\n",
    "\n",
    "More simply, a *package* is a module containing other modules. The modules in a package can be *sub-packages*, creating a tree-like structure. In summary, a package is simply a directory that contains modules and an `__init__.py` file describing the package's structure. Example:\n"
   ]
  },
  {
   "cell_type": "markdown",
   "metadata": {
    "id": "fz5W4rVYdVCN"
   },
   "source": [
    "### In a terminal, do the following:\n",
    "\n",
    "- `mkdir monpackage`;\n",
    "- `cd monpackage`;\n",
    "- `touch __init__.py`;\n",
    "- `touch mesfonctions.py`\n",
    "  - This file contains two Python functions:\n",
    "  \n",
    "     ```python\n",
    "        def additionner(a, b):\n",
    "            return a + b\n",
    "\n",
    "        def soustraire(a, b):\n",
    "            return a - b\n",
    "\n",
    "     ```\n",
    "- `touch mesattributs.py`\n",
    "    - This file contains two constants:\n",
    "   ```python\n",
    "      x = 100\n",
    "      y = 95\n",
    "    ```\n",
    "    \n",
    "    \n",
    "### Then  do this:\n",
    "\n",
    "This sequence of code demonstrates how to use the functions and constants defined in the `monpackage` package:\n",
    "\n",
    "1. **Importing and Using Functions:**\n",
    "   ```python\n",
    "   from monpackage import mesfonctions\n",
    "   mesfonctions.additionner(23, 89) == 112  # Returns True\n",
    "   ```\n",
    "   - Here, the `additionner` function is imported from the `mesfonctions` module within the `monpackage` package.\n",
    "   - `mesfonctions.additionner(23, 89)` calls the `additionner` function with arguments `23` and `89`.\n",
    "   - The function returns `112`, which matches the expected result, so the expression `mesfonctions.additionner(23, 89) == 112` evaluates to `True`.\n",
    "\n",
    "2. **Importing and Using Constants:**\n",
    "   ```python\n",
    "   from monpackage import mesattributs\n",
    "   mesattributs.x == 100  # Returns True\n",
    "   ```\n",
    "   - Here, the constant `x` is imported from the `mesattributs` module within the `monpackage` package.\n",
    "   - `mesattributs.x` accesses the constant `x` which is defined as `100`.\n",
    "   - The expression `mesattributs.x == 100` evaluates to `True` since the value of `x` is indeed `100`.    \n"
   ]
  },
  {
   "cell_type": "code",
   "execution_count": 1,
   "metadata": {
    "id": "3twWykt-dVCO"
   },
   "outputs": [],
   "source": [
    "from monpackage import mesfonctions"
   ]
  },
  {
   "cell_type": "code",
   "execution_count": 3,
   "metadata": {
    "id": "wcsL2W0EdVCO"
   },
   "outputs": [
    {
     "data": {
      "text/plain": [
       "True"
      ]
     },
     "execution_count": 3,
     "metadata": {},
     "output_type": "execute_result"
    }
   ],
   "source": [
    "mesfonctions.additionner(23,89) == 112  # Returns True"
   ]
  },
  {
   "cell_type": "code",
   "execution_count": 5,
   "metadata": {
    "id": "0ngeu_m7dVCO"
   },
   "outputs": [],
   "source": [
    "from monpackage import mesattributs"
   ]
  },
  {
   "cell_type": "code",
   "execution_count": 7,
   "metadata": {
    "id": "jR9AevdQdVCO"
   },
   "outputs": [
    {
     "data": {
      "text/plain": [
       "True"
      ]
     },
     "execution_count": 7,
     "metadata": {},
     "output_type": "execute_result"
    }
   ],
   "source": [
    "mesattributs.x == 100 # Returns True"
   ]
  },
  {
   "cell_type": "markdown",
   "metadata": {
    "id": "BPXzFMaNdVCO"
   },
   "source": [
    "<!--NAVIGATION-->\n",
    "<  [4.Flow control](04_Lecture04.ipynb)| [ToC](Index.ipynb) | [6. To come](06.Lecture06.ipynb)>\n"
   ]
  },
  {
   "cell_type": "markdown",
   "metadata": {
    "id": "H_0r41EJdff_"
   },
   "source": [
    "# Write a Python function add_numbers(a, b) that takes two numbers and returns their sum."
   ]
  },
  {
   "cell_type": "code",
   "execution_count": 39,
   "metadata": {},
   "outputs": [
    {
     "name": "stdout",
     "output_type": "stream",
     "text": [
      "11\n"
     ]
    }
   ],
   "source": [
    "a=6\n",
    "b=5\n",
    "def add_numbers(a, b):\n",
    "    return print(a+b)\n",
    "add_numbers(a,b)"
   ]
  },
  {
   "cell_type": "markdown",
   "metadata": {
    "id": "H_0r41EJdff_"
   },
   "source": [
    "# Create a function greet(name) that takes a name and prints “Hello, !”."
   ]
  },
  {
   "cell_type": "code",
   "execution_count": 15,
   "metadata": {},
   "outputs": [],
   "source": [
    "def greet(pierrine):\n",
    "     print(f\"hello{pierrine}!\")\n",
    "    "
   ]
  },
  {
   "cell_type": "markdown",
   "metadata": {},
   "source": [
    "# Write a Python function is_even(n) that checks whether a number is even."
   ]
  },
  {
   "cell_type": "code",
   "execution_count": 23,
   "metadata": {},
   "outputs": [
    {
     "data": {
      "text/plain": [
       "True"
      ]
     },
     "execution_count": 23,
     "metadata": {},
     "output_type": "execute_result"
    }
   ],
   "source": [
    "# is even number when divided by two\n",
    "\n",
    "def is_even(n):\n",
    "   if n%2==0:\n",
    "    return True\n",
    "   else:\n",
    "    return False\n",
    "       \n",
    "is_even(7)\n",
    "is_even(6)\n",
    "\n",
    "\n"
   ]
  },
  {
   "cell_type": "markdown",
   "metadata": {},
   "source": [
    "# Create a function `find_max()` that accepts two numeric inputs and returns the greater value. Avoid using the built-in `max()` function."
   ]
  },
  {
   "cell_type": "code",
   "execution_count": 25,
   "metadata": {},
   "outputs": [],
   "source": [
    "def find_max(a,b):\n",
    "    if a>b:\n",
    "        return a\n",
    "    else:\n",
    "        return b"
   ]
  },
  {
   "cell_type": "code",
   "execution_count": 11,
   "metadata": {},
   "outputs": [
    {
     "data": {
      "text/plain": [
       "9"
      ]
     },
     "execution_count": 11,
     "metadata": {},
     "output_type": "execute_result"
    }
   ],
   "source": [
    "find_max(7,9)\n"
   ]
  },
  {
   "cell_type": "markdown",
   "metadata": {},
   "source": [
    "# Develop a function `find_max_of_three()` to find the maximum among three given numbers."
   ]
  },
  {
   "cell_type": "code",
   "execution_count": 27,
   "metadata": {},
   "outputs": [],
   "source": [
    "def find_max_of_three(a,b,c):\n",
    "    if a >=b and a>=c:\n",
    "        return a\n",
    "    elif b>=a and b>=c:\n",
    "        return b\n",
    "    else:\n",
    "        return c\n",
    "        "
   ]
  },
  {
   "cell_type": "code",
   "execution_count": 29,
   "metadata": {},
   "outputs": [
    {
     "data": {
      "text/plain": [
       "20"
      ]
     },
     "execution_count": 29,
     "metadata": {},
     "output_type": "execute_result"
    }
   ],
   "source": [
    "find_max_of_three(20,6,17)\n"
   ]
  },
  {
   "cell_type": "markdown",
   "metadata": {},
   "source": [
    "# Write a function to manually calculate the length of a given list or string without using `len()`."
   ]
  },
  {
   "cell_type": "code",
   "execution_count": 31,
   "metadata": {},
   "outputs": [],
   "source": [
    "def calculate_length(sequence):\n",
    "    count= 0\n",
    "    for i in  sequence:\n",
    "        count += 1\n",
    "    return count "
   ]
  },
  {
   "cell_type": "code",
   "execution_count": 33,
   "metadata": {},
   "outputs": [
    {
     "name": "stdout",
     "output_type": "stream",
     "text": [
      "4\n"
     ]
    }
   ],
   "source": [
    "list = [1,2,34,4]\n",
    "print(calculate_length(list))"
   ]
  },
  {
   "cell_type": "markdown",
   "metadata": {},
   "source": [
    "# Implement a function that checks if a given character is a vowel (a, e, i, o, u)."
   ]
  },
  {
   "cell_type": "code",
   "execution_count": 35,
   "metadata": {},
   "outputs": [],
   "source": [
    "def is_vowel(char):\n",
    "    vowels = '\"aeiouAEIOUE\"'  \n",
    "    return char in vowels"
   ]
  },
  {
   "cell_type": "code",
   "execution_count": 37,
   "metadata": {},
   "outputs": [
    {
     "data": {
      "text/plain": [
       "True"
      ]
     },
     "execution_count": 37,
     "metadata": {},
     "output_type": "execute_result"
    }
   ],
   "source": [
    "is_vowel('a')"
   ]
  },
  {
   "cell_type": "markdown",
   "metadata": {},
   "source": [
    " # create `sum_elements()` and `product_elements()` functions to sum and multiply all elements in a list, respectively."
   ]
  },
  {
   "cell_type": "code",
   "execution_count": null,
   "metadata": {},
   "outputs": [],
   "source": [
    "def sum_elements(lst):\n",
    "    return sum(lst)\n",
    "\n",
    "def product_elements(lst):\n",
    "    product=1\n",
    "    for num in lst:\n",
    "        product*= num\n",
    "    return product\n",
    "\n",
    "numbers=[1,2,3,4,5]\n",
    "print (sum_elements(numbers))\n",
    "print ( product_elements(numbers))"
   ]
  },
  {
   "cell_type": "markdown",
   "metadata": {},
   "source": [
    " # Develop a function `check_membership()` to determine if a value exists within a list."
   ]
  },
  {
   "cell_type": "code",
   "execution_count": 43,
   "metadata": {},
   "outputs": [
    {
     "name": "stdout",
     "output_type": "stream",
     "text": [
      "True\n"
     ]
    }
   ],
   "source": [
    "def check_membership(value, input_list):\n",
    "    return value in input_list\n",
    "\n",
    "list=[1,2,3,5,4]\n",
    "value_to_check =2\n",
    "is_member= check_membership(value_to_check,list)\n",
    "print (is_member)"
   ]
  },
  {
   "cell_type": "markdown",
   "metadata": {},
   "source": [
    " # Create a program that maps each word in a list to its length."
   ]
  },
  {
   "cell_type": "code",
   "execution_count": null,
   "metadata": {},
   "outputs": [],
   "source": [
    "def max_in_list(lst):\n",
    "    return reduce(lambda x,y: x if x>y else y,lst) if lst else None\n",
    "    x=[3,1,4,1,5,9,2,6,5]\n",
    "    result= max_in_list(x)\n",
    "    print(result) "
   ]
  },
  {
   "cell_type": "markdown",
   "metadata": {},
   "source": [
    "# Define a function reverse_string() to reverse the characters in a given string"
   ]
  },
  {
   "cell_type": "code",
   "execution_count": 1,
   "metadata": {},
   "outputs": [
    {
     "name": "stdin",
     "output_type": "stream",
     "text": [
      " enter name : pierrine\n"
     ]
    },
    {
     "name": "stdout",
     "output_type": "stream",
     "text": [
      "enirreip\n"
     ]
    }
   ],
   "source": [
    "def reverse_string(string):\n",
    "    return string[::-1]\n",
    "string= input(\" enter name :\" )  \n",
    "print(reverse_string(string))"
   ]
  },
  {
   "cell_type": "markdown",
   "metadata": {},
   "source": [
    "# Write `check_overlap()` to identify if two lists share any elements."
   ]
  },
  {
   "cell_type": "code",
   "execution_count": 59,
   "metadata": {},
   "outputs": [
    {
     "name": "stdout",
     "output_type": "stream",
     "text": [
      "True\n"
     ]
    }
   ],
   "source": [
    "def check_overlap(list1, list2):\n",
    "    return bool(set(list1) & set(list2))\n",
    "list1 = [1, 3, 3, 4, 5]\n",
    "list2 = [4, 5, 6, 7, 8]\n",
    "overlap = check_overlap(list1, list2)\n",
    "print(overlap)"
   ]
  },
  {
   "cell_type": "markdown",
   "metadata": {},
   "source": [
    "# Write find_max_in_list() to identify the largest number in a list of arbitrary length."
   ]
  },
  {
   "cell_type": "code",
   "execution_count": 62,
   "metadata": {},
   "outputs": [
    {
     "name": "stdout",
     "output_type": "stream",
     "text": [
      "8\n"
     ]
    }
   ],
   "source": [
    "def find_max_in_list(n):\n",
    "    if not n:\n",
    "        return None \n",
    "    max_num = n[0] \n",
    "    for num in n[1:]:  \n",
    "        if num > max_num:  \n",
    "            max_num = num \n",
    "    return max_num\n",
    "\n",
    "\n",
    "n = [3, 5, 7, 2, 8, 1]\n",
    "print(find_max_in_list(n)) \n"
   ]
  },
  {
   "cell_type": "markdown",
   "metadata": {},
   "source": [
    "# Use reduce() to write max_in_list() that returns the largest number in a list.\n",
    "\n"
   ]
  },
  {
   "cell_type": "code",
   "execution_count": 65,
   "metadata": {},
   "outputs": [
    {
     "name": "stdout",
     "output_type": "stream",
     "text": [
      "8\n"
     ]
    }
   ],
   "source": [
    "from functools import reduce\n",
    "\n",
    "def max_in_list(x):\n",
    "    return reduce(lambda a, b: a if a > b else b, x)\n",
    "x = [3, 5, 7, 2, 8, 1]\n",
    "print(max_in_list(x))\n"
   ]
  }
 ],
 "metadata": {
  "colab": {
   "include_colab_link": true,
   "provenance": []
  },
  "kernelspec": {
   "display_name": "Python 3 (ipykernel)",
   "language": "python",
   "name": "python3"
  },
  "language_info": {
   "codemirror_mode": {
    "name": "ipython",
    "version": 3
   },
   "file_extension": ".py",
   "mimetype": "text/x-python",
   "name": "python",
   "nbconvert_exporter": "python",
   "pygments_lexer": "ipython3",
   "version": "3.12.4"
  }
 },
 "nbformat": 4,
 "nbformat_minor": 4
}
