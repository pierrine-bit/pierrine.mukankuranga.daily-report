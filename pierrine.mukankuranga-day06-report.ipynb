{
 "cells": [
  {
   "cell_type": "markdown",
   "id": "89b36adb-d755-4a4d-b9fc-9e55e2d82573",
   "metadata": {},
   "source": [
    "\n",
    "# Exercise 1."
   ]
  },
  {
   "cell_type": "code",
   "execution_count": 39,
   "id": "472278b0-2531-43e2-98c6-e1b10afd4111",
   "metadata": {},
   "outputs": [
    {
     "name": "stdin",
     "output_type": "stream",
     "text": [
      "Enter n: 4\n"
     ]
    },
    {
     "name": "stdout",
     "output_type": "stream",
     "text": [
      "sum of (i+3) for odd i: 10\n"
     ]
    }
   ],
   "source": [
    "n= int(input(\"Enter n:\"))\n",
    "# (i)\n",
    "sum_odd= sum ((i+3) for i in range (n) if i % 2 != 0)\n",
    "print(\"sum of (i+3) for odd i:\", sum_odd)"
   ]
  },
  {
   "cell_type": "markdown",
   "id": "00d6f421-c4ca-41cc-83a3-abe0530f4e52",
   "metadata": {},
   "source": [
    "# exercise 2"
   ]
  },
  {
   "cell_type": "code",
   "execution_count": 37,
   "id": "d11606a0-de3e-4fe6-ba4a-339fab7a9a06",
   "metadata": {},
   "outputs": [
    {
     "name": "stdin",
     "output_type": "stream",
     "text": [
      "Enter n: 4\n"
     ]
    },
    {
     "name": "stdout",
     "output_type": "stream",
     "text": [
      "product of (i+3)for even i: 15\n"
     ]
    }
   ],
   "source": [
    "  # (ii)\n",
    "n= int(input(\"Enter n:\"))\n",
    "prod=1\n",
    "for i in range(n):\n",
    "    if i % 2 == 0:\n",
    "        prod *=(i+3)\n",
    "print(\"product of (i+3)for even i:\", prod)"
   ]
  },
  {
   "cell_type": "code",
   "execution_count": 43,
   "id": "c673439d-9f94-450a-95f4-3663e431559b",
   "metadata": {
    "scrolled": true
   },
   "outputs": [
    {
     "name": "stdin",
     "output_type": "stream",
     "text": [
      "(0-6:  6\n"
     ]
    },
    {
     "name": "stdout",
     "output_type": "stream",
     "text": [
      "Weekend\n"
     ]
    }
   ],
   "source": [
    "day = int(input(\"(0-6: \"))\n",
    "days= [\"Sunday\", \"Monday\", \"Tuesday\", \"Wednesday\", \"Thursday\", \"Friday\", \"Saturday\"]\n",
    "if 0 <= day <=6:\n",
    "    print(days[day] if day< 5 else \"Weekend\")\n",
    "else:\n",
    "    print(\"Invalid input!\")"
   ]
  },
  {
   "cell_type": "markdown",
   "id": "01669d9d-9b09-4f1f-b48a-b6ea0e3a196f",
   "metadata": {},
   "source": [
    "# exercise 3 "
   ]
  },
  {
   "cell_type": "code",
   "execution_count": 61,
   "id": "f5b64fc0-9622-4d51-be16-f8ce8fd84422",
   "metadata": {},
   "outputs": [
    {
     "name": "stdin",
     "output_type": "stream",
     "text": [
      "(0-11):  10\n"
     ]
    },
    {
     "name": "stdout",
     "output_type": "stream",
     "text": [
      "the day of month is: 30\n"
     ]
    }
   ],
   "source": [
    "month=int(input(\"(0-11): \"))\n",
    "day_of_month= [31,29,31,30,31,30,31,31,30,31,30,31]\n",
    "if 0<=month<=11:\n",
    "    print(\"the day of month is:\",day_of_month[month])\n",
    "else:\n",
    "    print(\"Invalid input\")"
   ]
  },
  {
   "cell_type": "markdown",
   "id": "bbe437b4-62c5-4c1f-8495-a95f23fbb1c0",
   "metadata": {},
   "source": [
    "# Exercise 4\n",
    " "
   ]
  },
  {
   "cell_type": "code",
   "execution_count": 84,
   "id": "0aa7e9bc-ac72-425d-b386-79fab50e9c54",
   "metadata": {},
   "outputs": [
    {
     "name": "stdout",
     "output_type": "stream",
     "text": [
      "pierrine\n",
      "pierrine\n",
      "pierrine\n"
     ]
    }
   ],
   "source": [
    " p= \"pierrine\"\n",
    "for _ in range (3):\n",
    "    print(p)\n",
    "count=0"
   ]
  },
  {
   "cell_type": "code",
   "execution_count": 80,
   "id": "9e6cc0e5-a5fa-418d-90a4-9f74f0cf0a0c",
   "metadata": {},
   "outputs": [
    {
     "name": "stdout",
     "output_type": "stream",
     "text": [
      "pierrine\n",
      "pierrine\n",
      "pierrine\n"
     ]
    }
   ],
   "source": [
    "p= \"pierrine\"\n",
    "while count<3:\n",
    "    print(p)\n",
    "    count +=1"
   ]
  },
  {
   "cell_type": "markdown",
   "id": "af47c858-421a-42e2-b807-a40a53f1ba96",
   "metadata": {},
   "source": [
    "# Exercise 5 "
   ]
  },
  {
   "cell_type": "code",
   "execution_count": 124,
   "id": "3370dd05-3b41-4e33-bb6d-e89b9d338e21",
   "metadata": {},
   "outputs": [
    {
     "name": "stdin",
     "output_type": "stream",
     "text": [
      "enter 1st number:a0 3\n",
      "enter 2nd number:a1 4\n",
      "n numbers:n 5\n"
     ]
    },
    {
     "name": "stdout",
     "output_type": "stream",
     "text": [
      "[3, 4, 7, 11, 18, 29, 47]\n"
     ]
    }
   ],
   "source": [
    "a0 = int(input(\"enter 1st number:a0\"))\n",
    "a1=int(input(\"enter 2nd number:a1\")) \n",
    "n_sequence=int(input(\"n numbers:n\"))\n",
    "fibonacci_sequence=[a0,a1]\n",
    "for i in range(n_sequence):\n",
    "    next_term=fibonacci_sequence[-1]+fibonacci_sequence[-2]\n",
    "    fibonacci_sequence. append(next_term)\n",
    "\n",
    "print(fibonacci_sequence)\n"
   ]
  },
  {
   "cell_type": "markdown",
   "id": "f971ebe8-216b-4e75-bcf6-de2cd5848b6e",
   "metadata": {},
   "source": [
    "# Exercise 6"
   ]
  },
  {
   "cell_type": "code",
   "execution_count": 122,
   "id": "8eec26ca-fce3-4fb7-8d69-5a65bab9982b",
   "metadata": {},
   "outputs": [
    {
     "name": "stdin",
     "output_type": "stream",
     "text": [
      "enter 1st number:x0 3\n",
      "enter 2nd number:x1 4\n",
      "n numbers:xn 5\n"
     ]
    },
    {
     "name": "stdout",
     "output_type": "stream",
     "text": [
      "11.0\n",
      "17.5\n",
      "41.75\n",
      "73.375\n",
      "161.9375\n"
     ]
    }
   ],
   "source": [
    "x0 = int(input(\"enter 1st number:x0\"))\n",
    "x1=int(input(\"enter 2nd number:x1\")) \n",
    "xn_sequence=int(input(\"n numbers:xn\"))\n",
    "term_sequence=[x0,x1]\n",
    "for i in range(xn_sequence):\n",
    "    next_term=(term_sequence[-1]+ (6*term_sequence[-2]))/2\n",
    "    term_sequence. append( next_term)\n",
    "    print( next_term)"
   ]
  },
  {
   "cell_type": "markdown",
   "id": "404a0592-1d75-4a0d-9cec-4229af204265",
   "metadata": {},
   "source": [
    "# Exercise 7 "
   ]
  },
  {
   "cell_type": "code",
   "execution_count": 138,
   "id": "701b2eb0-ce6c-4252-9b8f-7e0755f926d9",
   "metadata": {},
   "outputs": [
    {
     "name": "stdin",
     "output_type": "stream",
     "text": [
      "enter any year : 2000\n"
     ]
    },
    {
     "name": "stdout",
     "output_type": "stream",
     "text": [
      "this is leap year\n"
     ]
    }
   ],
   "source": [
    "year=int(input(\"enter any year :\"))\n",
    "if year % 4 == 0 and year % 100 != 0 or year % 400 == 0:\n",
    "   print((\"this is leap year\"))\n",
    "else: \n",
    "    print(\"this is not leap year\")\n",
    "   "
   ]
  },
  {
   "cell_type": "markdown",
   "id": "90e7343b-79a5-48e8-a78e-2e48d5d48e74",
   "metadata": {},
   "source": [
    "# Exercise 8"
   ]
  },
  {
   "cell_type": "code",
   "execution_count": 232,
   "id": "de554f0a-181c-4ed3-9ebc-3048687f8c16",
   "metadata": {},
   "outputs": [
    {
     "name": "stdin",
     "output_type": "stream",
     "text": [
      "Enter a natural number n:  5\n"
     ]
    },
    {
     "name": "stdout",
     "output_type": "stream",
     "text": [
      "Sum of squares (for loop): 55\n",
      "Sum of squares (while loop): 55\n"
     ]
    }
   ],
   "source": [
    "n = int(input(\"Enter a natural number n: \"))\n",
    "\n",
    "sum_squares_for = sum(i**2 for i in range(1, n + 1))\n",
    "print(\"Sum of squares (for loop):\", sum_squares_for)\n",
    "\n",
    "sum_squares_while = 0\n",
    "i = 1\n",
    "while i <= n:\n",
    "    sum_squares_while += i**2\n",
    "    i += 1\n",
    "print(\"Sum of squares (while loop):\", sum_squares_while)"
   ]
  },
  {
   "cell_type": "markdown",
   "id": "e903fedc-a009-410c-99b7-7eb5e835cb99",
   "metadata": {},
   "source": [
    "# Exercise 9"
   ]
  },
  {
   "cell_type": "code",
   "execution_count": 228,
   "id": "d3ec5acc-f35a-4d7e-9bf5-75b734159011",
   "metadata": {},
   "outputs": [
    {
     "name": "stdin",
     "output_type": "stream",
     "text": [
      "Enter a natural number:  9\n"
     ]
    },
    {
     "name": "stdout",
     "output_type": "stream",
     "text": [
      "Divisor: [1, 3, 9]\n",
      "Prime factor: [3, 3]\n"
     ]
    }
   ],
   "source": [
    "# a)Divisors\n",
    "\n",
    "num = int(input(\"Enter a natural number: \"))\n",
    "divisor = [i for i in range(1, num + 1) if num % i == 0]\n",
    "print(\"Divisor:\", divisor)\n",
    "\n",
    "# b) Prime factors\n",
    "def prime_factor(x):\n",
    "    factor= []\n",
    "    for i in range(2, x + 1):\n",
    "        while x % i == 0:\n",
    "            factor.append(i)\n",
    "            x//= i\n",
    "    return factor\n",
    "\n",
    "print(\"Prime factor:\", prime_factor(num))"
   ]
  },
  {
   "cell_type": "markdown",
   "id": "e638d028-7e5d-4cbb-8af7-dff62ad54961",
   "metadata": {},
   "source": [
    "# Exercise 10 "
   ]
  },
  {
   "cell_type": "code",
   "execution_count": 163,
   "id": "631c1e7a-b3dd-4674-8f54-e9335ab3d067",
   "metadata": {},
   "outputs": [
    {
     "name": "stdin",
     "output_type": "stream",
     "text": [
      "Enter number between 0 and 9: 3\n",
      "Natural number:N 4\n"
     ]
    },
    {
     "name": "stdout",
     "output_type": "stream",
     "text": [
      "1*1 =1\n",
      "1*2 =2\n",
      "1*3 =3\n",
      "1*4 =4\n",
      "2*1 =2\n",
      "2*2 =4\n",
      "2*3 =6\n",
      "2*4 =8\n",
      "3*1 =3\n",
      "3*2 =6\n",
      "3*3 =9\n",
      "3*4 =12\n",
      "4*1 =4\n",
      "4*2 =8\n",
      "4*3 =12\n",
      "4*4 =16\n",
      "\n"
     ]
    }
   ],
   "source": [
    "p = int(input(\"Enter number between 0 and 9:\"))\n",
    "N= int(input(\"Natural number:N\"))\n",
    "\n",
    "if 0 <= p < 10:\n",
    "    for i in range(1, N + 1):\n",
    "        for j in range(1,N+1):\n",
    "            print(f\"{i}*{j} ={i*j}\")\n",
    "    print()\n"
   ]
  },
  {
   "cell_type": "markdown",
   "id": "67d9b8c9-0442-42db-a586-5674068fb6e0",
   "metadata": {},
   "source": [
    "# Exercise 11"
   ]
  },
  {
   "cell_type": "code",
   "execution_count": 152,
   "id": "a3424193-50d3-4290-93a6-12fef5b1914a",
   "metadata": {},
   "outputs": [
    {
     "name": "stdout",
     "output_type": "stream",
     "text": [
      "0\n",
      "3\n",
      "6\n",
      "7\n",
      "9\n",
      "11\n",
      "12\n",
      "14\n",
      "15\n",
      "18\n",
      "21\n",
      "22\n",
      "24\n",
      "27\n",
      "28\n",
      "30\n",
      "33\n",
      "35\n",
      "36\n",
      "39\n"
     ]
    }
   ],
   "source": [
    "for i in range(41):\n",
    "    if i%3==0 or i%7==0 or i%11==0:\n",
    "        print(i)"
   ]
  },
  {
   "cell_type": "markdown",
   "id": "6d607c6d-6c05-458f-a2c7-9b1295f97219",
   "metadata": {},
   "source": [
    "# Exercise 12"
   ]
  },
  {
   "cell_type": "code",
   "execution_count": 176,
   "id": "388ab2ff-b680-4328-a0e6-192d57c64c7d",
   "metadata": {},
   "outputs": [
    {
     "name": "stdin",
     "output_type": "stream",
     "text": [
      "Enter a float value:  4.99\n"
     ]
    },
    {
     "name": "stdout",
     "output_type": "stream",
     "text": [
      "Floor of 4.99 is 4\n"
     ]
    }
   ],
   "source": [
    "import math\n",
    "x = float(input(\"Enter a float value: \"))\n",
    "print(f\"Floor of {x} is {math.floor(x)}\")"
   ]
  },
  {
   "cell_type": "markdown",
   "id": "c594fcb9-4108-47b0-8e98-d5555675205b",
   "metadata": {},
   "source": [
    "# Exercise 13"
   ]
  },
  {
   "cell_type": "code",
   "execution_count": 184,
   "id": "86ebe23d-5f26-4527-baba-ae8a81208155",
   "metadata": {},
   "outputs": [
    {
     "name": "stdin",
     "output_type": "stream",
     "text": [
      "Enter X coordinate: -2\n",
      "Enter Y coordinate: 5\n"
     ]
    },
    {
     "name": "stdout",
     "output_type": "stream",
     "text": [
      "2nd quadrant\n"
     ]
    }
   ],
   "source": [
    "X=int(input(\"Enter X coordinate:\"))\n",
    "Y=int(input(\"Enter Y coordinate:\"))\n",
    "if X == 0 and Y == 0:\n",
    "    print(\"point is in the Origin\")\n",
    "elif X== 0:\n",
    "    print(\" y-axis\")\n",
    "elif Y == 0:\n",
    "    print(\" x-axis\")\n",
    "elif X > 0 and Y > 0:\n",
    "    print(\"1st quadrant\")\n",
    "elif X < 0 and  Y> 0:\n",
    "    print(\"2nd quadrant\")\n",
    "elif X < 0 and Y < 0:\n",
    "    print(\"3rd quadrant\")\n",
    "else:\n",
    "    print(\"4th quadrant\")"
   ]
  },
  {
   "cell_type": "markdown",
   "id": "7e809552-9d3e-4581-91d2-c2446aff7c42",
   "metadata": {},
   "source": [
    "# Exercise 14"
   ]
  },
  {
   "cell_type": "code",
   "execution_count": 246,
   "id": "58412a8b-08c6-478e-8d2b-8210d3795799",
   "metadata": {},
   "outputs": [
    {
     "name": "stdin",
     "output_type": "stream",
     "text": [
      "Enter a number between 0 and 9:  5\n",
      "Enter a number between 0 and 255:  100\n"
     ]
    },
    {
     "name": "stdout",
     "output_type": "stream",
     "text": [
      "multiples of 5 up to 100: [5, 10, 15, 20, 25, 30, 35, 40, 45, 50, 55, 60, 65, 70, 75, 80, 85, 90, 95, 100]\n"
     ]
    },
    {
     "name": "stdin",
     "output_type": "stream",
     "text": [
      "Do you want to continue? (yes/no):  yes\n",
      "Enter a number between 0 and 9:  9\n",
      "Enter a number between 0 and 255:  2\n"
     ]
    },
    {
     "name": "stdout",
     "output_type": "stream",
     "text": [
      "multiples of 9 up to 2: []\n"
     ]
    },
    {
     "name": "stdin",
     "output_type": "stream",
     "text": [
      "Do you want to continue? (yes/no):  no\n"
     ]
    }
   ],
   "source": [
    "while True:\n",
    "    x = int(input(\"Enter a number between 0 and 9: \"))\n",
    "    if 0 <= x <= 9:\n",
    "        max = int(input(\"Enter a number between 0 and 255: \"))\n",
    "        if 0 <= max_value <= 255:\n",
    "            n = [i for i in range(x, max+1, x)]\n",
    "            print(f\"multiples of {x} up to {max}: {n}\")\n",
    "        else:\n",
    "            print(\"Invalid max value. Enter a number between 0 and 255.\")\n",
    "    else:\n",
    "        print(\"Invalid x value. Enter a number between 0 and 9.\")\n",
    "    \n",
    "    cont = input(\"Do you want to continue? (yes/no): \").lower()\n",
    "    if cont != \"yes\":\n",
    "        break"
   ]
  }
 ],
 "metadata": {
  "kernelspec": {
   "display_name": "Python 3 (ipykernel)",
   "language": "python",
   "name": "python3"
  },
  "language_info": {
   "codemirror_mode": {
    "name": "ipython",
    "version": 3
   },
   "file_extension": ".py",
   "mimetype": "text/x-python",
   "name": "python",
   "nbconvert_exporter": "python",
   "pygments_lexer": "ipython3",
   "version": "3.12.4"
  }
 },
 "nbformat": 4,
 "nbformat_minor": 5
}
